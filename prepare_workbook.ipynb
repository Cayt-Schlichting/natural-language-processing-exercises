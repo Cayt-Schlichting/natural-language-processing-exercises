{
 "cells": [
  {
   "cell_type": "code",
   "execution_count": 1,
   "id": "35db5121",
   "metadata": {},
   "outputs": [
    {
     "name": "stderr",
     "output_type": "stream",
     "text": [
      "/opt/homebrew/anaconda3/lib/python3.9/site-packages/scipy/__init__.py:146: UserWarning: A NumPy version >=1.16.5 and <1.23.0 is required for this version of SciPy (detected version 1.23.0\n",
      "  warnings.warn(f\"A NumPy version >={np_minversion} and <{np_maxversion}\"\n"
     ]
    }
   ],
   "source": [
    "import unicodedata #\n",
    "import re #regex\n",
    "import json #read/writing to json\n",
    "\n",
    "import nltk #natural language toolkit\n",
    "#don't import so I can better memorize the path :)\n",
    "#from nltk.tokenize.toktok import ToktokTokenizer #breaking strings apart into component pieces\n",
    "#from nltk.corpus import stopwords #filler word database\n",
    "\n",
    "import pandas as pd\n",
    "\n",
    "import acquire as acq"
   ]
  },
  {
   "cell_type": "markdown",
   "id": "2572ee71",
   "metadata": {},
   "source": [
    "##### Acquire\n"
   ]
  },
  {
   "cell_type": "code",
   "execution_count": 2,
   "id": "e0417f40",
   "metadata": {},
   "outputs": [
    {
     "data": {
      "text/plain": [
       "['i',\n",
       " 'me',\n",
       " 'my',\n",
       " 'myself',\n",
       " 'we',\n",
       " 'our',\n",
       " 'ours',\n",
       " 'ourselves',\n",
       " 'you',\n",
       " \"you're\",\n",
       " \"you've\",\n",
       " \"you'll\",\n",
       " \"you'd\",\n",
       " 'your',\n",
       " 'yours',\n",
       " 'yourself',\n",
       " 'yourselves',\n",
       " 'he',\n",
       " 'him',\n",
       " 'his',\n",
       " 'himself',\n",
       " 'she',\n",
       " \"she's\",\n",
       " 'her',\n",
       " 'hers',\n",
       " 'herself',\n",
       " 'it',\n",
       " \"it's\",\n",
       " 'its',\n",
       " 'itself',\n",
       " 'they',\n",
       " 'them',\n",
       " 'their',\n",
       " 'theirs',\n",
       " 'themselves',\n",
       " 'what',\n",
       " 'which',\n",
       " 'who',\n",
       " 'whom',\n",
       " 'this',\n",
       " 'that',\n",
       " \"that'll\",\n",
       " 'these',\n",
       " 'those',\n",
       " 'am',\n",
       " 'is',\n",
       " 'are',\n",
       " 'was',\n",
       " 'were',\n",
       " 'be',\n",
       " 'been',\n",
       " 'being',\n",
       " 'have',\n",
       " 'has',\n",
       " 'had',\n",
       " 'having',\n",
       " 'do',\n",
       " 'does',\n",
       " 'did',\n",
       " 'doing',\n",
       " 'a',\n",
       " 'an',\n",
       " 'the',\n",
       " 'and',\n",
       " 'but',\n",
       " 'if',\n",
       " 'or',\n",
       " 'because',\n",
       " 'as',\n",
       " 'until',\n",
       " 'while',\n",
       " 'of',\n",
       " 'at',\n",
       " 'by',\n",
       " 'for',\n",
       " 'with',\n",
       " 'about',\n",
       " 'against',\n",
       " 'between',\n",
       " 'into',\n",
       " 'through',\n",
       " 'during',\n",
       " 'before',\n",
       " 'after',\n",
       " 'above',\n",
       " 'below',\n",
       " 'to',\n",
       " 'from',\n",
       " 'up',\n",
       " 'down',\n",
       " 'in',\n",
       " 'out',\n",
       " 'on',\n",
       " 'off',\n",
       " 'over',\n",
       " 'under',\n",
       " 'again',\n",
       " 'further',\n",
       " 'then',\n",
       " 'once',\n",
       " 'here',\n",
       " 'there',\n",
       " 'when',\n",
       " 'where',\n",
       " 'why',\n",
       " 'how',\n",
       " 'all',\n",
       " 'any',\n",
       " 'both',\n",
       " 'each',\n",
       " 'few',\n",
       " 'more',\n",
       " 'most',\n",
       " 'other',\n",
       " 'some',\n",
       " 'such',\n",
       " 'no',\n",
       " 'nor',\n",
       " 'not',\n",
       " 'only',\n",
       " 'own',\n",
       " 'same',\n",
       " 'so',\n",
       " 'than',\n",
       " 'too',\n",
       " 'very',\n",
       " 's',\n",
       " 't',\n",
       " 'can',\n",
       " 'will',\n",
       " 'just',\n",
       " 'don',\n",
       " \"don't\",\n",
       " 'should',\n",
       " \"should've\",\n",
       " 'now',\n",
       " 'd',\n",
       " 'll',\n",
       " 'm',\n",
       " 'o',\n",
       " 're',\n",
       " 've',\n",
       " 'y',\n",
       " 'ain',\n",
       " 'aren',\n",
       " \"aren't\",\n",
       " 'couldn',\n",
       " \"couldn't\",\n",
       " 'didn',\n",
       " \"didn't\",\n",
       " 'doesn',\n",
       " \"doesn't\",\n",
       " 'hadn',\n",
       " \"hadn't\",\n",
       " 'hasn',\n",
       " \"hasn't\",\n",
       " 'haven',\n",
       " \"haven't\",\n",
       " 'isn',\n",
       " \"isn't\",\n",
       " 'ma',\n",
       " 'mightn',\n",
       " \"mightn't\",\n",
       " 'mustn',\n",
       " \"mustn't\",\n",
       " 'needn',\n",
       " \"needn't\",\n",
       " 'shan',\n",
       " \"shan't\",\n",
       " 'shouldn',\n",
       " \"shouldn't\",\n",
       " 'wasn',\n",
       " \"wasn't\",\n",
       " 'weren',\n",
       " \"weren't\",\n",
       " 'won',\n",
       " \"won't\",\n",
       " 'wouldn',\n",
       " \"wouldn't\"]"
      ]
     },
     "execution_count": 2,
     "metadata": {},
     "output_type": "execute_result"
    }
   ],
   "source": [
    "nltk.corpus.stopwords.words('english')"
   ]
  },
  {
   "cell_type": "code",
   "execution_count": 3,
   "id": "4d63b666",
   "metadata": {},
   "outputs": [],
   "source": [
    "headers = {'User-Agent': 'Codeup Data Science - Jemison'}\n",
    "urls = ['https://codeup.com/data-science/jobs-after-a-coding-bootcamp-part-1-data-science/',\n",
    "        'https://codeup.com/data-science/math-in-data-science/',\n",
    "        'https://codeup.com/data-science/transition-into-data-science/',\n",
    "        'https://codeup.com/data-science/data-science-career/',\n",
    "        'https://codeup.com/data-science/data-science-without-a-degree/']\n",
    "topics = [\"business\",\"sports\",\"technology\",\"entertainment\"]"
   ]
  },
  {
   "cell_type": "code",
   "execution_count": 4,
   "id": "30cad6ba",
   "metadata": {},
   "outputs": [],
   "source": [
    "blogs = acq.get_blog_articles(urls,headers)\n",
    "\n",
    "articles = acq.get_news_articles(topics,headers)"
   ]
  },
  {
   "cell_type": "code",
   "execution_count": 5,
   "id": "bbde7aee",
   "metadata": {},
   "outputs": [
    {
     "data": {
      "text/html": [
       "<div>\n",
       "<style scoped>\n",
       "    .dataframe tbody tr th:only-of-type {\n",
       "        vertical-align: middle;\n",
       "    }\n",
       "\n",
       "    .dataframe tbody tr th {\n",
       "        vertical-align: top;\n",
       "    }\n",
       "\n",
       "    .dataframe thead th {\n",
       "        text-align: right;\n",
       "    }\n",
       "</style>\n",
       "<table border=\"1\" class=\"dataframe\">\n",
       "  <thead>\n",
       "    <tr style=\"text-align: right;\">\n",
       "      <th></th>\n",
       "      <th>url</th>\n",
       "      <th>title</th>\n",
       "      <th>content</th>\n",
       "    </tr>\n",
       "  </thead>\n",
       "  <tbody>\n",
       "    <tr>\n",
       "      <th>0</th>\n",
       "      <td>https://codeup.com/data-science/jobs-after-a-c...</td>\n",
       "      <td>What Jobs Can You Get After a Coding Bootcamp?</td>\n",
       "      <td>\\nIf you are interested in embarking on a care...</td>\n",
       "    </tr>\n",
       "    <tr>\n",
       "      <th>1</th>\n",
       "      <td>https://codeup.com/data-science/math-in-data-s...</td>\n",
       "      <td>What are the Math and Stats Principles You Nee...</td>\n",
       "      <td>\\nComing into our Data Science program, you wi...</td>\n",
       "    </tr>\n",
       "    <tr>\n",
       "      <th>2</th>\n",
       "      <td>https://codeup.com/data-science/transition-int...</td>\n",
       "      <td>What is the Transition into Data Science Like?...</td>\n",
       "      <td>\\nAlumni Katy Salts and Brandi Reger joined us...</td>\n",
       "    </tr>\n",
       "    <tr>\n",
       "      <th>3</th>\n",
       "      <td>https://codeup.com/data-science/data-science-c...</td>\n",
       "      <td>What Data Science Career is For You? - Codeup ...</td>\n",
       "      <td>\\nIf you’re struggling to see yourself as a da...</td>\n",
       "    </tr>\n",
       "    <tr>\n",
       "      <th>4</th>\n",
       "      <td>https://codeup.com/data-science/data-science-w...</td>\n",
       "      <td>From Slacker to Data Scientist: Journey to Dat...</td>\n",
       "      <td>\\nButterflies in my belly; my stomach is tied ...</td>\n",
       "    </tr>\n",
       "  </tbody>\n",
       "</table>\n",
       "</div>"
      ],
      "text/plain": [
       "                                                 url  \\\n",
       "0  https://codeup.com/data-science/jobs-after-a-c...   \n",
       "1  https://codeup.com/data-science/math-in-data-s...   \n",
       "2  https://codeup.com/data-science/transition-int...   \n",
       "3  https://codeup.com/data-science/data-science-c...   \n",
       "4  https://codeup.com/data-science/data-science-w...   \n",
       "\n",
       "                                               title  \\\n",
       "0     What Jobs Can You Get After a Coding Bootcamp?   \n",
       "1  What are the Math and Stats Principles You Nee...   \n",
       "2  What is the Transition into Data Science Like?...   \n",
       "3  What Data Science Career is For You? - Codeup ...   \n",
       "4  From Slacker to Data Scientist: Journey to Dat...   \n",
       "\n",
       "                                             content  \n",
       "0  \\nIf you are interested in embarking on a care...  \n",
       "1  \\nComing into our Data Science program, you wi...  \n",
       "2  \\nAlumni Katy Salts and Brandi Reger joined us...  \n",
       "3  \\nIf you’re struggling to see yourself as a da...  \n",
       "4  \\nButterflies in my belly; my stomach is tied ...  "
      ]
     },
     "execution_count": 5,
     "metadata": {},
     "output_type": "execute_result"
    }
   ],
   "source": [
    "blogs.head()"
   ]
  },
  {
   "cell_type": "code",
   "execution_count": 6,
   "id": "f864b306",
   "metadata": {},
   "outputs": [
    {
     "name": "stdout",
     "output_type": "stream",
     "text": [
      "<class 'pandas.core.frame.DataFrame'>\n",
      "RangeIndex: 5 entries, 0 to 4\n",
      "Data columns (total 3 columns):\n",
      " #   Column   Non-Null Count  Dtype \n",
      "---  ------   --------------  ----- \n",
      " 0   url      5 non-null      object\n",
      " 1   title    5 non-null      object\n",
      " 2   content  5 non-null      object\n",
      "dtypes: object(3)\n",
      "memory usage: 248.0+ bytes\n"
     ]
    }
   ],
   "source": [
    "blogs.info()"
   ]
  },
  {
   "cell_type": "code",
   "execution_count": 7,
   "id": "8b4b7350",
   "metadata": {},
   "outputs": [
    {
     "data": {
      "text/html": [
       "<div>\n",
       "<style scoped>\n",
       "    .dataframe tbody tr th:only-of-type {\n",
       "        vertical-align: middle;\n",
       "    }\n",
       "\n",
       "    .dataframe tbody tr th {\n",
       "        vertical-align: top;\n",
       "    }\n",
       "\n",
       "    .dataframe thead th {\n",
       "        text-align: right;\n",
       "    }\n",
       "</style>\n",
       "<table border=\"1\" class=\"dataframe\">\n",
       "  <thead>\n",
       "    <tr style=\"text-align: right;\">\n",
       "      <th></th>\n",
       "      <th>title</th>\n",
       "      <th>content</th>\n",
       "      <th>category</th>\n",
       "    </tr>\n",
       "  </thead>\n",
       "  <tbody>\n",
       "    <tr>\n",
       "      <th>0</th>\n",
       "      <td>Rupee hits record low of 79.97 against US dollar</td>\n",
       "      <td>The rupee hit a record low of 79.97 against th...</td>\n",
       "      <td>business</td>\n",
       "    </tr>\n",
       "    <tr>\n",
       "      <th>1</th>\n",
       "      <td>Rupee closes at an all-time low of 79.98 again...</td>\n",
       "      <td>The rupee on Monday hit a fresh record low as ...</td>\n",
       "      <td>business</td>\n",
       "    </tr>\n",
       "    <tr>\n",
       "      <th>2</th>\n",
       "      <td>A fighter to the core: Mahindra praises PV Sin...</td>\n",
       "      <td>Businessman Anand Mahindra took to Twitter to ...</td>\n",
       "      <td>business</td>\n",
       "    </tr>\n",
       "    <tr>\n",
       "      <th>3</th>\n",
       "      <td>BCCI had ₹40 cr in bank when I joined &amp; ₹47,68...</td>\n",
       "      <td>In an Instagram post, Lalit Modi asserted that...</td>\n",
       "      <td>business</td>\n",
       "    </tr>\n",
       "    <tr>\n",
       "      <th>4</th>\n",
       "      <td>11 SEBI officials' email accounts hacked &amp; use...</td>\n",
       "      <td>Mumbai police has filed an FIR after the Secur...</td>\n",
       "      <td>business</td>\n",
       "    </tr>\n",
       "  </tbody>\n",
       "</table>\n",
       "</div>"
      ],
      "text/plain": [
       "                                               title  \\\n",
       "0   Rupee hits record low of 79.97 against US dollar   \n",
       "1  Rupee closes at an all-time low of 79.98 again...   \n",
       "2  A fighter to the core: Mahindra praises PV Sin...   \n",
       "3  BCCI had ₹40 cr in bank when I joined & ₹47,68...   \n",
       "4  11 SEBI officials' email accounts hacked & use...   \n",
       "\n",
       "                                             content  category  \n",
       "0  The rupee hit a record low of 79.97 against th...  business  \n",
       "1  The rupee on Monday hit a fresh record low as ...  business  \n",
       "2  Businessman Anand Mahindra took to Twitter to ...  business  \n",
       "3  In an Instagram post, Lalit Modi asserted that...  business  \n",
       "4  Mumbai police has filed an FIR after the Secur...  business  "
      ]
     },
     "execution_count": 7,
     "metadata": {},
     "output_type": "execute_result"
    }
   ],
   "source": [
    "articles.head()"
   ]
  },
  {
   "cell_type": "markdown",
   "id": "2e3c4c2f",
   "metadata": {},
   "source": [
    "##### 1) Define a function named basic_clean. It should take in a string and apply some basic text cleaning to it:\n",
    "\n",
    "Lowercase everything\n",
    "Normalize unicode characters\n",
    "Replace anything that is not a letter, number, whitespace or a single quote."
   ]
  },
  {
   "cell_type": "code",
   "execution_count": 14,
   "id": "e5549dca",
   "metadata": {},
   "outputs": [],
   "source": [
    "def basic_clean(words):\n",
    "    #Lowercase\n",
    "    words = words.lower()\n",
    "    #Normalize unicode\n",
    "    words = unicodedata.normalize('NFKD',words).encode('ascii','ignore').decode('utf-8','ignore')\n",
    "    #remove special characters\n",
    "    words = re.sub(r\"[^a-z0-9\\'\\s]\",'',words)\n",
    "    return words\n",
    "    "
   ]
  },
  {
   "cell_type": "code",
   "execution_count": 15,
   "id": "343c6f32",
   "metadata": {},
   "outputs": [
    {
     "data": {
      "text/html": [
       "<div>\n",
       "<style scoped>\n",
       "    .dataframe tbody tr th:only-of-type {\n",
       "        vertical-align: middle;\n",
       "    }\n",
       "\n",
       "    .dataframe tbody tr th {\n",
       "        vertical-align: top;\n",
       "    }\n",
       "\n",
       "    .dataframe thead th {\n",
       "        text-align: right;\n",
       "    }\n",
       "</style>\n",
       "<table border=\"1\" class=\"dataframe\">\n",
       "  <thead>\n",
       "    <tr style=\"text-align: right;\">\n",
       "      <th></th>\n",
       "      <th>url</th>\n",
       "      <th>title</th>\n",
       "      <th>content</th>\n",
       "    </tr>\n",
       "  </thead>\n",
       "  <tbody>\n",
       "    <tr>\n",
       "      <th>0</th>\n",
       "      <td>https://codeup.com/data-science/jobs-after-a-c...</td>\n",
       "      <td>What Jobs Can You Get After a Coding Bootcamp?</td>\n",
       "      <td>\\nIf you are interested in embarking on a care...</td>\n",
       "    </tr>\n",
       "    <tr>\n",
       "      <th>1</th>\n",
       "      <td>https://codeup.com/data-science/math-in-data-s...</td>\n",
       "      <td>What are the Math and Stats Principles You Nee...</td>\n",
       "      <td>\\nComing into our Data Science program, you wi...</td>\n",
       "    </tr>\n",
       "    <tr>\n",
       "      <th>2</th>\n",
       "      <td>https://codeup.com/data-science/transition-int...</td>\n",
       "      <td>What is the Transition into Data Science Like?...</td>\n",
       "      <td>\\nAlumni Katy Salts and Brandi Reger joined us...</td>\n",
       "    </tr>\n",
       "    <tr>\n",
       "      <th>3</th>\n",
       "      <td>https://codeup.com/data-science/data-science-c...</td>\n",
       "      <td>What Data Science Career is For You? - Codeup ...</td>\n",
       "      <td>\\nIf you’re struggling to see yourself as a da...</td>\n",
       "    </tr>\n",
       "    <tr>\n",
       "      <th>4</th>\n",
       "      <td>https://codeup.com/data-science/data-science-w...</td>\n",
       "      <td>From Slacker to Data Scientist: Journey to Dat...</td>\n",
       "      <td>\\nButterflies in my belly; my stomach is tied ...</td>\n",
       "    </tr>\n",
       "  </tbody>\n",
       "</table>\n",
       "</div>"
      ],
      "text/plain": [
       "                                                 url  \\\n",
       "0  https://codeup.com/data-science/jobs-after-a-c...   \n",
       "1  https://codeup.com/data-science/math-in-data-s...   \n",
       "2  https://codeup.com/data-science/transition-int...   \n",
       "3  https://codeup.com/data-science/data-science-c...   \n",
       "4  https://codeup.com/data-science/data-science-w...   \n",
       "\n",
       "                                               title  \\\n",
       "0     What Jobs Can You Get After a Coding Bootcamp?   \n",
       "1  What are the Math and Stats Principles You Nee...   \n",
       "2  What is the Transition into Data Science Like?...   \n",
       "3  What Data Science Career is For You? - Codeup ...   \n",
       "4  From Slacker to Data Scientist: Journey to Dat...   \n",
       "\n",
       "                                             content  \n",
       "0  \\nIf you are interested in embarking on a care...  \n",
       "1  \\nComing into our Data Science program, you wi...  \n",
       "2  \\nAlumni Katy Salts and Brandi Reger joined us...  \n",
       "3  \\nIf you’re struggling to see yourself as a da...  \n",
       "4  \\nButterflies in my belly; my stomach is tied ...  "
      ]
     },
     "execution_count": 15,
     "metadata": {},
     "output_type": "execute_result"
    }
   ],
   "source": [
    "blogs.applymap(basic_clean)\n",
    "blogs"
   ]
  },
  {
   "cell_type": "code",
   "execution_count": 13,
   "id": "0c9f336b",
   "metadata": {},
   "outputs": [],
   "source": [
    "#WORKS when applied to individual cell\n",
    "# unicodedata.normalize('NFKD',blogs['content'][4])  "
   ]
  },
  {
   "cell_type": "code",
   "execution_count": 12,
   "id": "3494a65e",
   "metadata": {},
   "outputs": [],
   "source": [
    "#Does not work like this - error: \"invalid normalization form\"\n",
    "#however, it seems to be appropritaely calling the normalize function\n",
    "# blogs['content'].apply(unicodedata.normalize,args=('NFKD',))"
   ]
  },
  {
   "cell_type": "markdown",
   "id": "ef54dcb1",
   "metadata": {},
   "source": [
    "##### 2) Define a function named tokenize. It should take in a string and tokenize all the words in the string."
   ]
  },
  {
   "cell_type": "code",
   "execution_count": null,
   "id": "0f866d11",
   "metadata": {},
   "outputs": [],
   "source": []
  },
  {
   "cell_type": "markdown",
   "id": "941040ee",
   "metadata": {},
   "source": [
    "##### 3) Define a function named stem. It should accept some text and return the text after applying stemming to all the words."
   ]
  },
  {
   "cell_type": "code",
   "execution_count": null,
   "id": "783dfd3c",
   "metadata": {},
   "outputs": [],
   "source": []
  },
  {
   "cell_type": "markdown",
   "id": "a3055c4a",
   "metadata": {},
   "source": [
    "##### 4) Define a function named lemmatize. It should accept some text and return the text after applying lemmatization to each word."
   ]
  },
  {
   "cell_type": "code",
   "execution_count": null,
   "id": "aedbf720",
   "metadata": {},
   "outputs": [],
   "source": []
  },
  {
   "cell_type": "markdown",
   "id": "fd994321",
   "metadata": {},
   "source": [
    "##### 5) Define a function named remove_stopwords. It should accept some text and return the text after removing all the stopwords.\n",
    "\n",
    "This function should define two optional parameters, extra_words and exclude_words. These parameters should define any additional stop words to include, and any words that we don't want to remove."
   ]
  },
  {
   "cell_type": "code",
   "execution_count": null,
   "id": "65702ff5",
   "metadata": {},
   "outputs": [],
   "source": []
  },
  {
   "cell_type": "markdown",
   "id": "d58a44d6",
   "metadata": {},
   "source": [
    "##### 6) Use your data from the acquire to produce a dataframe of the news articles. Name the dataframe news_df."
   ]
  },
  {
   "cell_type": "code",
   "execution_count": null,
   "id": "54601238",
   "metadata": {},
   "outputs": [],
   "source": []
  },
  {
   "cell_type": "markdown",
   "id": "f5b3f4ba",
   "metadata": {},
   "source": [
    "##### 7) Make another dataframe for the Codeup blog posts. Name the dataframe codeup_df."
   ]
  },
  {
   "cell_type": "code",
   "execution_count": null,
   "id": "d83ab6b7",
   "metadata": {},
   "outputs": [],
   "source": []
  },
  {
   "cell_type": "markdown",
   "id": "01c13eac",
   "metadata": {},
   "source": [
    "#####  8) For each dataframe, produce the following columns:\n",
    "\n",
    "- title to hold the title\n",
    "- original to hold the original article/post content\n",
    "- clean to hold the normalized and tokenized original with the stopwords removed.\n",
    "- stemmed to hold the stemmed version of the cleaned data.\n",
    "- lemmatized to hold the lemmatized version of the cleaned data."
   ]
  },
  {
   "cell_type": "code",
   "execution_count": null,
   "id": "feee333d",
   "metadata": {},
   "outputs": [],
   "source": []
  },
  {
   "cell_type": "markdown",
   "id": "f2a933d8",
   "metadata": {},
   "source": [
    "##### 9) Ask yourself:\n",
    "\n",
    "- If your corpus is 493KB, would you prefer to use stemmed or lemmatized text?\n",
    "- If your corpus is 25MB, would you prefer to use stemmed or lemmatized text?\n",
    "- If your corpus is 200TB of text and you're charged by the megabyte for your hosted computational resources, would you prefer to use stemmed or lemmatized text?"
   ]
  }
 ],
 "metadata": {
  "kernelspec": {
   "display_name": "Python 3 (ipykernel)",
   "language": "python",
   "name": "python3"
  },
  "language_info": {
   "codemirror_mode": {
    "name": "ipython",
    "version": 3
   },
   "file_extension": ".py",
   "mimetype": "text/x-python",
   "name": "python",
   "nbconvert_exporter": "python",
   "pygments_lexer": "ipython3",
   "version": "3.9.7"
  }
 },
 "nbformat": 4,
 "nbformat_minor": 5
}
