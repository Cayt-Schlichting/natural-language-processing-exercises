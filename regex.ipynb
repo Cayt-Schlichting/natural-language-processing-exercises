{
 "cells": [
  {
   "cell_type": "code",
   "execution_count": 107,
   "id": "a1f23138",
   "metadata": {},
   "outputs": [],
   "source": [
    "import re\n",
    "import pandas as pd"
   ]
  },
  {
   "cell_type": "markdown",
   "id": "18cdc5d8",
   "metadata": {},
   "source": [
    "**1) Write a function named is_vowel.** It should accept a string as input and use a regular expression to determine if the passed string is a vowel. While not explicity mentioned in the lesson, you can treat the result of re.search as a boolean value that indicates whether or not the regular expression matches the given string."
   ]
  },
  {
   "cell_type": "code",
   "execution_count": 13,
   "id": "88f64e8f",
   "metadata": {},
   "outputs": [],
   "source": [
    "def is_a_vowel(var):\n",
    "    '''\n",
    "    Takes in a string and returns true or false if it is a vowel.  \n",
    "    Must by a single character to return True - ignores case.\n",
    "    Prints error to screen if a string was not passed.\n",
    "    '''\n",
    "    if not isinstance(var,str): \n",
    "        print(f'Error: expected a string')\n",
    "        return None\n",
    "    #if returns match object (aka not None) & only one character \n",
    "    if re.search(r'[aeiou]',var,re.IGNORECASE) and len(var) == 1: return True\n",
    "    else: return False"
   ]
  },
  {
   "cell_type": "code",
   "execution_count": 14,
   "id": "f8205b9f",
   "metadata": {},
   "outputs": [
    {
     "data": {
      "text/plain": [
       "True"
      ]
     },
     "execution_count": 14,
     "metadata": {},
     "output_type": "execute_result"
    }
   ],
   "source": [
    "is_vowel('a')"
   ]
  },
  {
   "cell_type": "code",
   "execution_count": 15,
   "id": "753cdcff",
   "metadata": {},
   "outputs": [
    {
     "data": {
      "text/plain": [
       "True"
      ]
     },
     "execution_count": 15,
     "metadata": {},
     "output_type": "execute_result"
    }
   ],
   "source": [
    "is_vowel('A')"
   ]
  },
  {
   "cell_type": "code",
   "execution_count": 16,
   "id": "520dbcdc",
   "metadata": {},
   "outputs": [
    {
     "data": {
      "text/plain": [
       "False"
      ]
     },
     "execution_count": 16,
     "metadata": {},
     "output_type": "execute_result"
    }
   ],
   "source": [
    "is_vowel('Ab')"
   ]
  },
  {
   "cell_type": "code",
   "execution_count": 20,
   "id": "8137543b",
   "metadata": {},
   "outputs": [
    {
     "data": {
      "text/plain": [
       "False"
      ]
     },
     "execution_count": 20,
     "metadata": {},
     "output_type": "execute_result"
    }
   ],
   "source": [
    "is_vowel('aA')"
   ]
  },
  {
   "cell_type": "code",
   "execution_count": 18,
   "id": "a4ceacdf",
   "metadata": {},
   "outputs": [
    {
     "data": {
      "text/plain": [
       "False"
      ]
     },
     "execution_count": 18,
     "metadata": {},
     "output_type": "execute_result"
    }
   ],
   "source": [
    "is_vowel('b')"
   ]
  },
  {
   "cell_type": "code",
   "execution_count": 19,
   "id": "5764f177",
   "metadata": {},
   "outputs": [
    {
     "data": {
      "text/plain": [
       "False"
      ]
     },
     "execution_count": 19,
     "metadata": {},
     "output_type": "execute_result"
    }
   ],
   "source": [
    "is_vowel('B')"
   ]
  },
  {
   "cell_type": "markdown",
   "id": "df82f216",
   "metadata": {},
   "source": [
    "**2) Write a function named is_valid_username** that accepts a string as input. A valid username starts with a lowercase letter, and only consists of lowercase letters, numbers, or the _ character. It should also be no longer than 32 characters. The function should return either True or False depending on whether the passed string is a valid username.\n",
    "\n",
    "TEST:\n",
    "- is_valid_username('aaaaaaaaaaaaaaaaaaaaaaaaaaaaaaaaa')\n",
    "False\n",
    "- is_valid_username('codeup')\n",
    "True\n",
    "- is_valid_username('Codeup')\n",
    "False\n",
    "- is_valid_username('codeup123')\n",
    "True\n",
    "- is_valid_username('1codeup')\n",
    "False\n"
   ]
  },
  {
   "cell_type": "code",
   "execution_count": 34,
   "id": "7be8ce7f",
   "metadata": {},
   "outputs": [],
   "source": [
    "def is_valid_username(username):\n",
    "    '''\n",
    "    Takes in a string and checks if it is a valid username.\n",
    "    Prints an error if a string is not passed.\n",
    "    Returns True if a valid username, returns False if not valid and prints error message to screen\n",
    "    \n",
    "    A username is valid if:\n",
    "        It starts with a lowercase letter\n",
    "        It only contains lowercase letters, numbers and an underscore\n",
    "        It is 32 characters or less.\n",
    "    '''\n",
    "    #error out if not passed a string\n",
    "    if not isinstance(username,str): \n",
    "        print(f'Error: expected a string')\n",
    "        return None\n",
    "    #intitialize error message string\n",
    "    err_msg = ''\n",
    "    #if string doesn't start with lowercase letter\n",
    "    if not username[0].islower():\n",
    "        err_msg += \"Username must start with a lowercase letter.\\n\"\n",
    "    \n",
    "    #If contains anything other than lower case letters, numbers or the _ character\n",
    "    if re.search(r'[^0-9a-z_]',username):\n",
    "        err_msg += \"Username must only contain lowercase letters, numbers and the _ character (underscore).\\n\"\n",
    "        \n",
    "    #less than 32 characters\n",
    "    if len(username) > 32: err_msg += \"Username must be 32 characters or less.\\n\"\n",
    "    \n",
    "    #return true if we didn't find any errors\n",
    "    if err_msg == '': return True\n",
    "    #else print the error message and return false\n",
    "    else: \n",
    "        print(err_msg)\n",
    "        return False"
   ]
  },
  {
   "cell_type": "code",
   "execution_count": 24,
   "id": "e512be92",
   "metadata": {},
   "outputs": [
    {
     "data": {
      "text/plain": [
       "True"
      ]
     },
     "execution_count": 24,
     "metadata": {},
     "output_type": "execute_result"
    }
   ],
   "source": [
    "is_valid_username('codeup_3')"
   ]
  },
  {
   "cell_type": "code",
   "execution_count": 32,
   "id": "3254e9a8",
   "metadata": {},
   "outputs": [
    {
     "data": {
      "text/plain": [
       "True"
      ]
     },
     "execution_count": 32,
     "metadata": {},
     "output_type": "execute_result"
    }
   ],
   "source": [
    "is_valid_username('codeup123')"
   ]
  },
  {
   "cell_type": "code",
   "execution_count": 25,
   "id": "f7bd7540",
   "metadata": {},
   "outputs": [
    {
     "name": "stdout",
     "output_type": "stream",
     "text": [
      "Username must start with a lowercase letter.\n",
      "Username can only contain lowercase letters, numbers and the _ character (underscore).\n",
      "\n"
     ]
    },
    {
     "data": {
      "text/plain": [
       "False"
      ]
     },
     "execution_count": 25,
     "metadata": {},
     "output_type": "execute_result"
    }
   ],
   "source": [
    "is_valid_username('Codeup')"
   ]
  },
  {
   "cell_type": "code",
   "execution_count": 27,
   "id": "cfb7d6aa",
   "metadata": {},
   "outputs": [
    {
     "name": "stdout",
     "output_type": "stream",
     "text": [
      "Username can only contain lowercase letters, numbers and the _ character (underscore).\n",
      "\n"
     ]
    },
    {
     "data": {
      "text/plain": [
       "False"
      ]
     },
     "execution_count": 27,
     "metadata": {},
     "output_type": "execute_result"
    }
   ],
   "source": [
    "is_valid_username('codeup!')"
   ]
  },
  {
   "cell_type": "code",
   "execution_count": 29,
   "id": "26b7e627",
   "metadata": {},
   "outputs": [
    {
     "name": "stdout",
     "output_type": "stream",
     "text": [
      "Username must start with a lowercase letter.\n",
      "\n"
     ]
    },
    {
     "data": {
      "text/plain": [
       "False"
      ]
     },
     "execution_count": 29,
     "metadata": {},
     "output_type": "execute_result"
    }
   ],
   "source": [
    "is_valid_username('1codeup')"
   ]
  },
  {
   "cell_type": "code",
   "execution_count": 31,
   "id": "dd55a11c",
   "metadata": {},
   "outputs": [
    {
     "name": "stdout",
     "output_type": "stream",
     "text": [
      "Username must be 32 characters or less.\n",
      "\n"
     ]
    },
    {
     "data": {
      "text/plain": [
       "False"
      ]
     },
     "execution_count": 31,
     "metadata": {},
     "output_type": "execute_result"
    }
   ],
   "source": [
    "is_valid_username('aaaaaaaaaaaaaaaaaaaaaaaaaaaaaaaaa')"
   ]
  },
  {
   "cell_type": "code",
   "execution_count": 33,
   "id": "c7be980b",
   "metadata": {},
   "outputs": [
    {
     "name": "stdout",
     "output_type": "stream",
     "text": [
      "Error: expected a string\n"
     ]
    }
   ],
   "source": [
    "is_valid_username(2)"
   ]
  },
  {
   "cell_type": "markdown",
   "id": "cf640b5a",
   "metadata": {},
   "source": [
    "**3) Write a regular expression to capture phone numbers.** It should match all of the following:"
   ]
  },
  {
   "cell_type": "code",
   "execution_count": 92,
   "id": "7f7ba76c",
   "metadata": {},
   "outputs": [],
   "source": [
    "phones = '''a (210) 867 5309\\n\n",
    "b+1 210.867.5309\\n \n",
    "c867-5309:\n",
    "d210-867-5309\n",
    "e980 - 4356q\\n\n",
    "'''"
   ]
  },
  {
   "cell_type": "code",
   "execution_count": 36,
   "id": "eac88ccc",
   "metadata": {},
   "outputs": [],
   "source": [
    "def show_all_matches(regexes, subject, re_length=6):\n",
    "    print('Sentence:')\n",
    "    print()\n",
    "    print('    {}'.format(subject))\n",
    "    print()\n",
    "    print(' regexp{} | matches'.format(' ' * (re_length - 6)))\n",
    "    print(' ------{} | -------'.format(' ' * (re_length - 6)))\n",
    "    for regexp in regexes:\n",
    "        fmt = ' {:<%d} | {!r}' % re_length\n",
    "        matches = re.findall(regexp, subject)\n",
    "        if len(matches) > 8:\n",
    "            matches = matches[:8] + ['...']\n",
    "        print(fmt.format(regexp, matches))\n"
   ]
  },
  {
   "cell_type": "code",
   "execution_count": 98,
   "id": "510f88ac",
   "metadata": {},
   "outputs": [
    {
     "name": "stdout",
     "output_type": "stream",
     "text": [
      "Sentence:\n",
      "\n",
      "    a (210) 867 5309\n",
      "\n",
      "b+1 210.867.5309\n",
      " \n",
      "c867-5309:\n",
      "d210-867-5309\n",
      "e980 - 4356q\n",
      "\n",
      "b+34 210.867.5309\n",
      "\n",
      " regexp | matches\n",
      " ------ | -------\n",
      " \\d{3}  | ['210', '867', '530', '210', '867', '530', '867', '530', '...']\n",
      " LAST 7 | []\n",
      " \\d{3}[\\.| \\- | ]\\d{4} | ['867 5309', '867.5309', '867-5309', '867-5309', '867.5309']\n",
      " \\d{3} {0,1}[\\.|\\-] {0,1}\\d{4} | ['867.5309', '867-5309', '867-5309', '980 - 4356', '867.5309']\n",
      " FIRST 3 | []\n",
      " \\(\\d{3}\\)|\\d{3} | ['(210)', '867', '530', '210', '867', '530', '867', '530', '...']\n",
      " COMBINE | []\n",
      " (\\(\\d{3}\\)|\\d{3})?[ \\.]?\\d{3} {0,1}[\\.|\\-] {0,1}\\d{4} | ['210', '', '', '', '210']\n",
      " (\\(\\d{3}\\)|\\d{3})[ \\.]\\d{3} {0,1}[\\.|\\-] {0,1}\\d{4} | ['210', '210']\n",
      " BREAK  | []\n",
      " \\(\\d{3}\\) \\d{3}[\\.| \\- | ]\\d{4} | ['(210) 867 5309']\n",
      " \\+1 \\d{3}[ \\.]\\d{3}[\\.| \\- | ]\\d{4} | ['+1 210.867.5309']\n",
      " \\d{3}\\-\\d{4} | ['867-5309', '867-5309']\n",
      " \\d{3}\\.\\d{4} | ['867.5309', '867.5309']\n",
      " \\d{3}\\-\\d{3}\\-\\d{4} | ['210-867-5309']\n",
      " (\\+\\d{1,2} )?(\\(\\d{3}\\)|\\d{3})?[ \\.\\-]?(\\d{3} {0,1}[\\.|\\-] {0,1}\\d{4}) | [('+1 ', '210', '867.5309'), ('', '', '867-5309'), ('', '210', '867-5309'), ('', '', '980 - 4356'), ('+34 ', '210', '867.5309')]\n",
      " CAPTURE EACH PIECE | []\n",
      " (\\+1 )?\\(?(\\d{3})?\\)?[ \\.\\-]?(\\d{3}) {0,1}[\\.|\\-] {0,1}(\\d{4}) | [('+1 ', '210', '867', '5309'), ('', '', '867', '5309'), ('', '210', '867', '5309'), ('', '', '980', '4356'), ('', '210', '867', '5309')]\n"
     ]
    }
   ],
   "source": [
    "# 1) test \\d{3}[\\.| \\- | ]\\d{4}     #NOT Bad, but doesn't find ' - '\n",
    "# 2) try putting in 0-1 space option\n",
    "# 3) Captures #2 which handles the last 7, and try to add first 3\n",
    "show_all_matches([\n",
    "    r'\\d{3}',\n",
    "    r'LAST 7',\n",
    "    r'\\d{3}[\\.| \\- | ]\\d{4}',\n",
    "    r'\\d{3} {0,1}[\\.|\\-] {0,1}\\d{4}',\n",
    "    r'FIRST 3',\n",
    "    r'\\(\\d{3}\\)|\\d{3}',\n",
    "    r'COMBINE',\n",
    "    r'(\\(\\d{3}\\)|\\d{3})?[ \\.]?\\d{3} {0,1}[\\.|\\-] {0,1}\\d{4}',\n",
    "    r'(\\(\\d{3}\\)|\\d{3})[ \\.]\\d{3} {0,1}[\\.|\\-] {0,1}\\d{4}',\n",
    "    r'BREAK',\n",
    "    r'\\(\\d{3}\\) \\d{3}[\\.| \\- | ]\\d{4}',\n",
    "    r'\\+1 \\d{3}[ \\.]\\d{3}[\\.| \\- | ]\\d{4}',\n",
    "    r'\\d{3}\\-\\d{4}',\n",
    "    r'\\d{3}\\.\\d{4}',\n",
    "    r'\\d{3}\\-\\d{3}\\-\\d{4}',\n",
    "    r'(\\+\\d{1,2} )?(\\(\\d{3}\\)|\\d{3})?[ \\.\\-]?(\\d{3} {0,1}[\\.|\\-] {0,1}\\d{4})',\n",
    "    r'CAPTURE EACH PIECE',\n",
    "    r'(\\+1 )?\\(?(\\d{3})?\\)?[ \\.\\-]?(\\d{3}) {0,1}[\\.|\\-] {0,1}(\\d{4})'\n",
    "], phones)\n",
    "# For first (optional 3) >>> (\\(\\d{3}\\)|\\d{3})?\n",
    "# went ahead and split this up to only capture the numbers. Don't want to split this up more to strip the '(' from the capture because then it would allow:\n",
    "#   \"(###\"  or \"###)\"\n",
    "# Also, we don't really need teh"
   ]
  },
  {
   "cell_type": "markdown",
   "id": "ded440c3",
   "metadata": {},
   "source": [
    "**4) Use regular expressions to convert the dates below to the standardized year-month-day format.**\n",
    "\n",
    "- 02/04/19\n",
    "- 02/05/19\n",
    "- 02/06/19\n",
    "- 02/07/19\n",
    "- 02/08/19\n",
    "- 02/09/19\n",
    "- 02/10/19"
   ]
  },
  {
   "cell_type": "code",
   "execution_count": 105,
   "id": "2896c05e",
   "metadata": {},
   "outputs": [
    {
     "data": {
      "text/plain": [
       "'19-02-04'"
      ]
     },
     "execution_count": 105,
     "metadata": {},
     "output_type": "execute_result"
    }
   ],
   "source": [
    "test = '02/04/19'\n",
    "mn, dy, yr = re.split(r'\\/',test)\n",
    "\n",
    "new_date = yr+'-'+mn+'-'+dy\n",
    "new_date"
   ]
  },
  {
   "cell_type": "code",
   "execution_count": 112,
   "id": "eb97a1e7",
   "metadata": {},
   "outputs": [
    {
     "data": {
      "text/plain": [
       "0    2019-02-04\n",
       "1    2019-02-05\n",
       "2    2019-02-06\n",
       "3    2019-02-07\n",
       "4    2019-02-08\n",
       "5    2019-02-09\n",
       "6    2019-02-10\n",
       "dtype: object"
      ]
     },
     "execution_count": 112,
     "metadata": {},
     "output_type": "execute_result"
    }
   ],
   "source": [
    "#alt - if applying to a value in a series, try this\n",
    "dates = pd.Series(['02/04/19', '02/05/19', '02/06/19','02/07/19', '02/08/19', '02/09/19', '02/10/19'])\n",
    "#parses out into 3 pieces, then the \"\\3\", \"\\2\", \"\\1\" in the second parameter tell where to put the pieces\n",
    "dates.str.replace(r'(\\d+)/(\\d+)/(\\d+)', r'20\\3-\\1-\\2',regex=True)"
   ]
  },
  {
   "cell_type": "markdown",
   "id": "a49137fa",
   "metadata": {},
   "source": [
    "**5) Write a regex to extract the various parts of these logfile lines:**\n",
    "\n",
    "GET /api/v1/sales?page=86 [16/Apr/2019:193452+0000] HTTP/1.1 {200} 510348 \"python-requests/2.21.0\" 97.105.19.58\n",
    "POST /users_accounts/file-upload [16/Apr/2019:193452+0000] HTTP/1.1 {201} 42 \"User-Agent: Mozilla/5.0 (X11; Fedora; Fedora; Linux x86_64) AppleWebKit/537.36 (KHTML, like Gecko) Chrome/73.0.3683.86 Safari/537.36\" 97.105.19.58\n",
    "GET /api/v1/items?page=3 [16/Apr/2019:193453+0000] HTTP/1.1 {429} 3561 \"python-requests/2.21.0\" 97.105.19.58\n"
   ]
  },
  {
   "cell_type": "code",
   "execution_count": 115,
   "id": "2ba6dba4",
   "metadata": {},
   "outputs": [],
   "source": [
    "lines = '''\n",
    "GET /api/v1/sales?page=86 [16/Apr/2019:193452+0000] HTTP/1.1 {200} 510348 \"python-requests/2.21.0\" 97.105.19.58\n",
    "POST /users_accounts/file-upload [16/Apr/2019:193452+0000] HTTP/1.1 {201} 42 \"User-Agent: Mozilla/5.0 (X11; Fedora; Fedora; Linux x86_64) AppleWebKit/537.36 (KHTML, like Gecko) Chrome/73.0.3683.86 Safari/537.36\" 97.105.19.58\n",
    "GET /api/v1/items?page=3 [16/Apr/2019:193453+0000] HTTP/1.1 {429} 3561 \"python-requests/2.21.0\" 97.105.19.58\n",
    "'''\n",
    "line = '''GET /api/v1/sales?page=86 [16/Apr/2019:193452+0000] HTTP/1.1 {200} 510348 \"python-requests/2.21.0\" 97.105.19.58'''"
   ]
  },
  {
   "cell_type": "code",
   "execution_count": 122,
   "id": "dc9d033e",
   "metadata": {},
   "outputs": [
    {
     "data": {
      "text/plain": [
       "('GET', '/api/v1/sales?page=86', '16/Apr/2019:193452+0000')"
      ]
     },
     "execution_count": 122,
     "metadata": {},
     "output_type": "execute_result"
    }
   ],
   "source": [
    "match = re.search('(?P<method>[^ ]*) (?P<path>[^ ]*) \\[(?P<date_time>[^ ]*)\\]',line)\n",
    "match.groups()"
   ]
  },
  {
   "cell_type": "code",
   "execution_count": 123,
   "id": "43387a0a",
   "metadata": {},
   "outputs": [
    {
     "data": {
      "text/plain": [
       "'GET'"
      ]
     },
     "execution_count": 123,
     "metadata": {},
     "output_type": "execute_result"
    }
   ],
   "source": [
    "match.group('method')"
   ]
  },
  {
   "cell_type": "markdown",
   "id": "9ae2c0c7",
   "metadata": {},
   "source": [
    "## TO DO - finish this log parser"
   ]
  },
  {
   "cell_type": "markdown",
   "id": "cf6a6b32",
   "metadata": {},
   "source": [
    "**BONUS** You can find a list of words on your mac at /usr/share/dict/words. Use this file to answer the following questions:\n",
    "- How many words have at least 3 vowels?\n",
    "- How many words have at least 3 vowels in a row?\n",
    "- How many words have at least 4 consonants in a row?\n",
    "- How many words start and end with the same letter?\n",
    "- How many words start and end with a vowel?\n",
    "- How many words contain the same letter 3 times in a row?\n",
    "- What other interesting patterns in words can you find?"
   ]
  }
 ],
 "metadata": {
  "kernelspec": {
   "display_name": "Python 3 (ipykernel)",
   "language": "python",
   "name": "python3"
  },
  "language_info": {
   "codemirror_mode": {
    "name": "ipython",
    "version": 3
   },
   "file_extension": ".py",
   "mimetype": "text/x-python",
   "name": "python",
   "nbconvert_exporter": "python",
   "pygments_lexer": "ipython3",
   "version": "3.9.7"
  }
 },
 "nbformat": 4,
 "nbformat_minor": 5
}
