{
 "cells": [
  {
   "cell_type": "code",
   "execution_count": 1,
   "id": "2375d9d8",
   "metadata": {},
   "outputs": [],
   "source": [
    "from requests import get\n",
    "from bs4 import BeautifulSoup\n",
    "\n",
    "#Set my header - will tell a website a bit about who you are\n",
    "headers = {'User-Agent': 'Codeup Data Science - Jemison'}"
   ]
  },
  {
   "cell_type": "markdown",
   "id": "6cea24d5",
   "metadata": {},
   "source": [
    "### Codeup Blog Articles"
   ]
  },
  {
   "cell_type": "markdown",
   "id": "e7411d6f",
   "metadata": {},
   "source": [
    "5 blog post URLs\n",
    "https://codeup.com/data-science/jobs-after-a-coding-bootcamp-part-1-data-science/\n",
    "\n",
    "https://codeup.com/data-science/math-in-data-science/\n",
    "\n",
    "https://codeup.com/data-science/transition-into-data-science/\n",
    "\n",
    "https://codeup.com/data-science/data-science-career/\n",
    "\n",
    "https://codeup.com/data-science/data-science-without-a-degree/"
   ]
  },
  {
   "cell_type": "markdown",
   "id": "403ea0fd",
   "metadata": {},
   "source": [
    "##### View in edit mode\n",
    "\n",
    "\n",
    "**Title format in head:**\n",
    "\n",
    "<title>From Slacker to Data Scientist: Journey to Data Science Without a Degree</title>\n",
    "\n",
    "\t<meta property=\"og:title\" content=\"From Slacker to Data Scientist: Journey to Data Science Without a Degree\" />\n",
    "    \n",
    "    \n",
    "**Description format in head:**\n",
    "\n",
    "<meta name=\"description\" content=\"Read how Ednalyn De Dios started in data science without a degree - they went from &quot;slacker&quot; to data scientist thanks to their hard work and Codeup&#039;s help!\" />\n",
    "\t\n",
    "   <meta property=\"og:description\" content=\"Read how Ednalyn De Dios started in data science without a degree - they went from &quot;slacker&quot; to data scientist thanks to their hard work and Codeup&#039;s help!\" />\n",
    "\t\n",
    "**Acutal content:**    \n",
    "\n",
    "<div id=\"main-content\">  ????\n",
    "    "
   ]
  },
  {
   "cell_type": "code",
   "execution_count": 2,
   "id": "0dae3cea",
   "metadata": {},
   "outputs": [],
   "source": [
    "#scrap\n",
    "site = 'https://codeup.com/data-science/jobs-after-a-coding-bootcamp-part-1-data-science/'\n",
    "response = get(site,headers=headers)"
   ]
  },
  {
   "cell_type": "code",
   "execution_count": 3,
   "id": "1385b2a7",
   "metadata": {},
   "outputs": [
    {
     "data": {
      "text/plain": [
       "'<!DOCTYPE html>\\n<html lang=\"en-US\">\\n<head>\\n\\t<meta charset=\"UTF-8\" />\\n<meta http-equiv=\"X-UA-Compatib'"
      ]
     },
     "execution_count": 3,
     "metadata": {},
     "output_type": "execute_result"
    }
   ],
   "source": [
    "response.text[:100] #confirm we got the info"
   ]
  },
  {
   "cell_type": "code",
   "execution_count": 4,
   "id": "60bace8a",
   "metadata": {},
   "outputs": [],
   "source": [
    "soup = BeautifulSoup(response.content,'html.parser')"
   ]
  },
  {
   "cell_type": "code",
   "execution_count": 5,
   "id": "51d6d164",
   "metadata": {},
   "outputs": [
    {
     "data": {
      "text/plain": [
       "<title>What Jobs Can You Get After a Coding Bootcamp?</title>"
      ]
     },
     "execution_count": 5,
     "metadata": {},
     "output_type": "execute_result"
    }
   ],
   "source": [
    "soup.title"
   ]
  },
  {
   "cell_type": "code",
   "execution_count": 6,
   "id": "ae8ec67a",
   "metadata": {},
   "outputs": [
    {
     "data": {
      "text/plain": [
       "'What Jobs Can You Get After a Coding Bootcamp?'"
      ]
     },
     "execution_count": 6,
     "metadata": {},
     "output_type": "execute_result"
    }
   ],
   "source": [
    "soup.title.text"
   ]
  },
  {
   "cell_type": "code",
   "execution_count": 7,
   "id": "45c962b5",
   "metadata": {
    "scrolled": true
   },
   "outputs": [
    {
     "data": {
      "text/plain": [
       "[<div class=\"entry-content\">\n",
       " <p><span style=\"font-weight: 400;\">If you are interested in embarking on a career in tech, you’re probably wondering what your new job title could be, and even what your salary might look like.* </span><span style=\"font-weight: 400;\">In this mini-series, we will take each of our programs here at Codeup: Data Science, Web Development, and Cloud Administration, and outline respectively potential job titles, as well as entry-level salaries. </span><span style=\"font-weight: 400;\">Today we will be diving into our </span><a href=\"https://codeup.com/program/data-science/\"><span style=\"font-weight: 400;\">Data Science</span></a><span style=\"font-weight: 400;\"> program, with four potential job titles you could take on!</span></p>\n",
       " <h2><b>Program Overview</b><span style=\"font-weight: 400;\"> </span></h2>\n",
       " <p><span style=\"font-weight: 400;\">During this 20-week program, you will have the opportunity to take your career to new heights with data science being one of the most needed jobs in tech. You’ll gather data, then clean it, explore it for trends, and apply machine learning models to make predictions.</span></p>\n",
       " <p><span style=\"font-weight: 400;\">Upon completing this program, you will know how to turn insights into actionable recommendations. You’ll be a huge asset to any company, having all the technical skills to become a data scientist with projects upon projects of experience under your belt. </span></p>\n",
       " <h3><b></b><b>1. Data Scientist </b></h3>\n",
       " <p><span style=\"font-weight: 400;\">Essentially, a Data Scientist is responsible for analyzing how a business performs to ensure the business stays competitive and relevant. They review the data for deeper meaning and examine it for patterns in an effort to create solutions to business problems. According to </span><a href=\"https://www.ziprecruiter.com/Salaries/Entry-Level-DATA-Scientist-Salary\" rel=\"noopener\" target=\"_blank\"><span style=\"font-weight: 400;\">Zip Recruiter</span></a><span style=\"font-weight: 400;\">, the average entry-level salary for a Data Scientist in Texas is $60,677.</span><b></b></p>\n",
       " <h3><b>2. Data Analyst</b></h3>\n",
       " <p><span style=\"font-weight: 400;\">A Data Analyst finds ways to solve a business’ problems through raw data analysis. They are then responsible for sharing this information with management and stakeholders. According to </span><a href=\"https://www.indeed.com/career/data-analyst/salaries/San-Antonio--TX\" rel=\"noopener\" target=\"_blank\"><span style=\"font-weight: 400;\">Indeed</span></a><span style=\"font-weight: 400;\">, the average entry-level salary for a Data Analyst is $60,332.</span><b></b></p>\n",
       " <h3><b>3. Machine Learning Engineer </b></h3>\n",
       " <p><span style=\"font-weight: 400;\">A Machine Learning (ML) Engineer is usually on a Data Science team. They are responsible for artificial intelligence, and its functions as well as making predictions on other machine learning capabilities. They will create ML prototypes and models, then test and retrain where necessary. According to </span><a href=\"https://www.salary.com/tools/salary-calculator/machine-learning-engineer/san-antonio-tx?yrs=0\" rel=\"noopener\" target=\"_blank\"><span style=\"font-weight: 400;\">Salary.com</span></a><span style=\"font-weight: 400;\">, the average entry-level salary for a ML Engineer is $115,795.</span><b></b></p>\n",
       " <h3><b>4. Business Intelligence Analyst </b></h3>\n",
       " <p><span style=\"font-weight: 400;\">A Business Intelligence Analyst, also known as a BI Analyst is responsible for understanding computer programming languages. Their primary goal is to give accurate insight to decision-makers regarding the market, productivity, competition, and customer responses. According to </span><a href=\"https://www.payscale.com/research/US/Job=Business_Intelligence_(BI)_Analyst/Salary/37381308/Entry-Level-San-Antonio-TX\" rel=\"noopener\" target=\"_blank\"><span style=\"font-weight: 400;\">Payscale</span></a><span style=\"font-weight: 400;\">, the average entry-level salary for a BI Analyst is $58,627.</span></p>\n",
       " <p><span style=\"font-weight: 400;\">We understand changing careers can be scary. If you chose Codeup, we will make sure you are plenty prepared to not only take on one of these roles but succeed in it. </span></p>\n",
       " <p><span style=\"font-weight: 400;\">This program gives you more than a textbook and a bank of pre-recorded lectures. You get hands-on instruction from industry experts, along with the power to change your life. </span></p>\n",
       " <p><span style=\"font-weight: 400;\">If you’re ready, </span><a href=\"https://codeup.com/apply-now/\"><span style=\"font-weight: 400;\">apply today</span></a><span style=\"font-weight: 400;\"> and let’s turn your dreams into reality and get your seat secured in our next Data Science cohort. </span></p>\n",
       " <p> </p>\n",
       " <p><span style=\"font-weight: 400;\">*Disclaimer: All information presented in this article is by no means guaranteed by completing a Codeup program. Salaries and duties vary based on factors such as company, location, and experience. These salaries are estimates based on San Antonio, TX data, and these duties are general and may not be exact for every position. </span></p>\n",
       " <p> </p>\n",
       " </div>]"
      ]
     },
     "execution_count": 7,
     "metadata": {},
     "output_type": "execute_result"
    }
   ],
   "source": [
    "soup.select('#post-18698 > div.entry-content') #post-18698 > div.entry-content"
   ]
  },
  {
   "cell_type": "code",
   "execution_count": 8,
   "id": "a8139914",
   "metadata": {
    "scrolled": true
   },
   "outputs": [
    {
     "data": {
      "text/plain": [
       "<div class=\"entry-content\">\n",
       "<p><span style=\"font-weight: 400;\">If you are interested in embarking on a career in tech, you’re probably wondering what your new job title could be, and even what your salary might look like.* </span><span style=\"font-weight: 400;\">In this mini-series, we will take each of our programs here at Codeup: Data Science, Web Development, and Cloud Administration, and outline respectively potential job titles, as well as entry-level salaries. </span><span style=\"font-weight: 400;\">Today we will be diving into our </span><a href=\"https://codeup.com/program/data-science/\"><span style=\"font-weight: 400;\">Data Science</span></a><span style=\"font-weight: 400;\"> program, with four potential job titles you could take on!</span></p>\n",
       "<h2><b>Program Overview</b><span style=\"font-weight: 400;\"> </span></h2>\n",
       "<p><span style=\"font-weight: 400;\">During this 20-week program, you will have the opportunity to take your career to new heights with data science being one of the most needed jobs in tech. You’ll gather data, then clean it, explore it for trends, and apply machine learning models to make predictions.</span></p>\n",
       "<p><span style=\"font-weight: 400;\">Upon completing this program, you will know how to turn insights into actionable recommendations. You’ll be a huge asset to any company, having all the technical skills to become a data scientist with projects upon projects of experience under your belt. </span></p>\n",
       "<h3><b></b><b>1. Data Scientist </b></h3>\n",
       "<p><span style=\"font-weight: 400;\">Essentially, a Data Scientist is responsible for analyzing how a business performs to ensure the business stays competitive and relevant. They review the data for deeper meaning and examine it for patterns in an effort to create solutions to business problems. According to </span><a href=\"https://www.ziprecruiter.com/Salaries/Entry-Level-DATA-Scientist-Salary\" rel=\"noopener\" target=\"_blank\"><span style=\"font-weight: 400;\">Zip Recruiter</span></a><span style=\"font-weight: 400;\">, the average entry-level salary for a Data Scientist in Texas is $60,677.</span><b></b></p>\n",
       "<h3><b>2. Data Analyst</b></h3>\n",
       "<p><span style=\"font-weight: 400;\">A Data Analyst finds ways to solve a business’ problems through raw data analysis. They are then responsible for sharing this information with management and stakeholders. According to </span><a href=\"https://www.indeed.com/career/data-analyst/salaries/San-Antonio--TX\" rel=\"noopener\" target=\"_blank\"><span style=\"font-weight: 400;\">Indeed</span></a><span style=\"font-weight: 400;\">, the average entry-level salary for a Data Analyst is $60,332.</span><b></b></p>\n",
       "<h3><b>3. Machine Learning Engineer </b></h3>\n",
       "<p><span style=\"font-weight: 400;\">A Machine Learning (ML) Engineer is usually on a Data Science team. They are responsible for artificial intelligence, and its functions as well as making predictions on other machine learning capabilities. They will create ML prototypes and models, then test and retrain where necessary. According to </span><a href=\"https://www.salary.com/tools/salary-calculator/machine-learning-engineer/san-antonio-tx?yrs=0\" rel=\"noopener\" target=\"_blank\"><span style=\"font-weight: 400;\">Salary.com</span></a><span style=\"font-weight: 400;\">, the average entry-level salary for a ML Engineer is $115,795.</span><b></b></p>\n",
       "<h3><b>4. Business Intelligence Analyst </b></h3>\n",
       "<p><span style=\"font-weight: 400;\">A Business Intelligence Analyst, also known as a BI Analyst is responsible for understanding computer programming languages. Their primary goal is to give accurate insight to decision-makers regarding the market, productivity, competition, and customer responses. According to </span><a href=\"https://www.payscale.com/research/US/Job=Business_Intelligence_(BI)_Analyst/Salary/37381308/Entry-Level-San-Antonio-TX\" rel=\"noopener\" target=\"_blank\"><span style=\"font-weight: 400;\">Payscale</span></a><span style=\"font-weight: 400;\">, the average entry-level salary for a BI Analyst is $58,627.</span></p>\n",
       "<p><span style=\"font-weight: 400;\">We understand changing careers can be scary. If you chose Codeup, we will make sure you are plenty prepared to not only take on one of these roles but succeed in it. </span></p>\n",
       "<p><span style=\"font-weight: 400;\">This program gives you more than a textbook and a bank of pre-recorded lectures. You get hands-on instruction from industry experts, along with the power to change your life. </span></p>\n",
       "<p><span style=\"font-weight: 400;\">If you’re ready, </span><a href=\"https://codeup.com/apply-now/\"><span style=\"font-weight: 400;\">apply today</span></a><span style=\"font-weight: 400;\"> and let’s turn your dreams into reality and get your seat secured in our next Data Science cohort. </span></p>\n",
       "<p> </p>\n",
       "<p><span style=\"font-weight: 400;\">*Disclaimer: All information presented in this article is by no means guaranteed by completing a Codeup program. Salaries and duties vary based on factors such as company, location, and experience. These salaries are estimates based on San Antonio, TX data, and these duties are general and may not be exact for every position. </span></p>\n",
       "<p> </p>\n",
       "</div>"
      ]
     },
     "execution_count": 8,
     "metadata": {},
     "output_type": "execute_result"
    }
   ],
   "source": [
    "soup.select('.entry-content')[0]"
   ]
  },
  {
   "cell_type": "code",
   "execution_count": 9,
   "id": "24441f49",
   "metadata": {},
   "outputs": [],
   "source": [
    "def get_blog_articles(urls,headers):\n",
    "    '''\n",
    "    Given a list of URLs, returns a list of dictionaries containing the url, blog title an bog content.\n",
    "    '''\n",
    "    blog_list = []\n",
    "    for url in urls:\n",
    "        #get page info\n",
    "        response = get(url,headers=headers)\n",
    "        #turn into soup object\n",
    "        soup = BeautifulSoup(response.content,'html.parser')\n",
    "        \n",
    "        blog_dict = {\n",
    "            'url': url,\n",
    "            'title': soup.title.text,\n",
    "            'content': soup.select('.entry-content')[0]\n",
    "        }\n",
    "        blog_list.append(blog_dict)\n",
    "    return blog_list"
   ]
  },
  {
   "cell_type": "code",
   "execution_count": 10,
   "id": "ff955eca",
   "metadata": {},
   "outputs": [],
   "source": [
    "urls = ['https://codeup.com/data-science/jobs-after-a-coding-bootcamp-part-1-data-science/',\n",
    "        'https://codeup.com/data-science/math-in-data-science/',\n",
    "        'https://codeup.com/data-science/transition-into-data-science/',\n",
    "        'https://codeup.com/data-science/data-science-career/',\n",
    "        'https://codeup.com/data-science/data-science-without-a-degree/']"
   ]
  },
  {
   "cell_type": "code",
   "execution_count": 11,
   "id": "8fb1ee36",
   "metadata": {},
   "outputs": [
    {
     "data": {
      "text/plain": [
       "[{'url': 'https://codeup.com/data-science/jobs-after-a-coding-bootcamp-part-1-data-science/',\n",
       "  'title': 'What Jobs Can You Get After a Coding Bootcamp?',\n",
       "  'content': <div class=\"entry-content\">\n",
       "  <p><span style=\"font-weight: 400;\">If you are interested in embarking on a career in tech, you’re probably wondering what your new job title could be, and even what your salary might look like.* </span><span style=\"font-weight: 400;\">In this mini-series, we will take each of our programs here at Codeup: Data Science, Web Development, and Cloud Administration, and outline respectively potential job titles, as well as entry-level salaries. </span><span style=\"font-weight: 400;\">Today we will be diving into our </span><a href=\"https://codeup.com/program/data-science/\"><span style=\"font-weight: 400;\">Data Science</span></a><span style=\"font-weight: 400;\"> program, with four potential job titles you could take on!</span></p>\n",
       "  <h2><b>Program Overview</b><span style=\"font-weight: 400;\"> </span></h2>\n",
       "  <p><span style=\"font-weight: 400;\">During this 20-week program, you will have the opportunity to take your career to new heights with data science being one of the most needed jobs in tech. You’ll gather data, then clean it, explore it for trends, and apply machine learning models to make predictions.</span></p>\n",
       "  <p><span style=\"font-weight: 400;\">Upon completing this program, you will know how to turn insights into actionable recommendations. You’ll be a huge asset to any company, having all the technical skills to become a data scientist with projects upon projects of experience under your belt. </span></p>\n",
       "  <h3><b></b><b>1. Data Scientist </b></h3>\n",
       "  <p><span style=\"font-weight: 400;\">Essentially, a Data Scientist is responsible for analyzing how a business performs to ensure the business stays competitive and relevant. They review the data for deeper meaning and examine it for patterns in an effort to create solutions to business problems. According to </span><a href=\"https://www.ziprecruiter.com/Salaries/Entry-Level-DATA-Scientist-Salary\" rel=\"noopener\" target=\"_blank\"><span style=\"font-weight: 400;\">Zip Recruiter</span></a><span style=\"font-weight: 400;\">, the average entry-level salary for a Data Scientist in Texas is $60,677.</span><b></b></p>\n",
       "  <h3><b>2. Data Analyst</b></h3>\n",
       "  <p><span style=\"font-weight: 400;\">A Data Analyst finds ways to solve a business’ problems through raw data analysis. They are then responsible for sharing this information with management and stakeholders. According to </span><a href=\"https://www.indeed.com/career/data-analyst/salaries/San-Antonio--TX\" rel=\"noopener\" target=\"_blank\"><span style=\"font-weight: 400;\">Indeed</span></a><span style=\"font-weight: 400;\">, the average entry-level salary for a Data Analyst is $60,332.</span><b></b></p>\n",
       "  <h3><b>3. Machine Learning Engineer </b></h3>\n",
       "  <p><span style=\"font-weight: 400;\">A Machine Learning (ML) Engineer is usually on a Data Science team. They are responsible for artificial intelligence, and its functions as well as making predictions on other machine learning capabilities. They will create ML prototypes and models, then test and retrain where necessary. According to </span><a href=\"https://www.salary.com/tools/salary-calculator/machine-learning-engineer/san-antonio-tx?yrs=0\" rel=\"noopener\" target=\"_blank\"><span style=\"font-weight: 400;\">Salary.com</span></a><span style=\"font-weight: 400;\">, the average entry-level salary for a ML Engineer is $115,795.</span><b></b></p>\n",
       "  <h3><b>4. Business Intelligence Analyst </b></h3>\n",
       "  <p><span style=\"font-weight: 400;\">A Business Intelligence Analyst, also known as a BI Analyst is responsible for understanding computer programming languages. Their primary goal is to give accurate insight to decision-makers regarding the market, productivity, competition, and customer responses. According to </span><a href=\"https://www.payscale.com/research/US/Job=Business_Intelligence_(BI)_Analyst/Salary/37381308/Entry-Level-San-Antonio-TX\" rel=\"noopener\" target=\"_blank\"><span style=\"font-weight: 400;\">Payscale</span></a><span style=\"font-weight: 400;\">, the average entry-level salary for a BI Analyst is $58,627.</span></p>\n",
       "  <p><span style=\"font-weight: 400;\">We understand changing careers can be scary. If you chose Codeup, we will make sure you are plenty prepared to not only take on one of these roles but succeed in it. </span></p>\n",
       "  <p><span style=\"font-weight: 400;\">This program gives you more than a textbook and a bank of pre-recorded lectures. You get hands-on instruction from industry experts, along with the power to change your life. </span></p>\n",
       "  <p><span style=\"font-weight: 400;\">If you’re ready, </span><a href=\"https://codeup.com/apply-now/\"><span style=\"font-weight: 400;\">apply today</span></a><span style=\"font-weight: 400;\"> and let’s turn your dreams into reality and get your seat secured in our next Data Science cohort. </span></p>\n",
       "  <p> </p>\n",
       "  <p><span style=\"font-weight: 400;\">*Disclaimer: All information presented in this article is by no means guaranteed by completing a Codeup program. Salaries and duties vary based on factors such as company, location, and experience. These salaries are estimates based on San Antonio, TX data, and these duties are general and may not be exact for every position. </span></p>\n",
       "  <p> </p>\n",
       "  </div>},\n",
       " {'url': 'https://codeup.com/data-science/math-in-data-science/',\n",
       "  'title': 'What are the Math and Stats Principles You Need for Data Science? -',\n",
       "  'content': <div class=\"entry-content\">\n",
       "  <p><span style=\"font-weight: 400;\">Coming into our Data Science program, you will need to know some math and stats. However, many of our applicants actually learn in the </span><a href=\"https://codeup.com/codeups-application-process/\"><span style=\"font-weight: 400;\">application process</span></a><span style=\"font-weight: 400;\"> – you don’t need to be an expert before applying! Data science is a very accessible field to anyone dedicated to learning new skills, and we can work with any applicant to help them learn what they need to know. But what “skills” do we mean, exactly? Just what exactly are the data science math and stats principles you need to know?</span></p>\n",
       "  <h2>What are the main math principles you need to know to get into Codeup’s Data Science program?</h2>\n",
       "  <h4></h4>\n",
       "  <h4></h4>\n",
       "  <p><strong>Algebra</strong></p>\n",
       "  <p><span style=\"font-weight: 400;\">Do you know PEMDAS and can you solve for x? You will need to be or become comfortable with the following: </span></p>\n",
       "  <ul>\n",
       "  <li style=\"font-weight: 400;\"><span style=\"font-weight: 400;\">Variables (x, y, n, etc.)</span></li>\n",
       "  <li style=\"font-weight: 400;\"><span style=\"font-weight: 400;\">Formulas, functions, and variable manipulations (e.g. x^2 = x + 6, solve for x).</span></li>\n",
       "  <li style=\"font-weight: 400;\"><span style=\"font-weight: 400;\">Order of evaluation: </span><b>PEMDAS</b><span style=\"font-weight: 400;\">: parentheses, exponents, then multiplication, division, addition, and subtraction</span></li>\n",
       "  <li style=\"font-weight: 400;\"><span style=\"font-weight: 400;\">Commutativity where </span><b>a + b = b + a</b></li>\n",
       "  <li style=\"font-weight: 400;\"><span style=\"font-weight: 400;\">Associativity where </span><b>a + (b + c) = (a + b) + c</b></li>\n",
       "  <li style=\"font-weight: 400;\"><span style=\"font-weight: 400;\">Adding and subtracting matrices</span></li>\n",
       "  <li style=\"font-weight: 400;\"><span style=\"font-weight: 400;\">A conceptual understanding of exponential growth/decay- things can increase at an increasing rate</span></li>\n",
       "  </ul>\n",
       "  <p><strong>Descriptive Statistics</strong></p>\n",
       "  <p><span style=\"font-weight: 400;\">Know what a min, max, mode, median, and average are. Have a conceptual understanding that stats/probability is about trying to quantify uncertainty.</span></p>\n",
       "  <p><strong>Data Visualization</strong></p>\n",
       "  <p><span style=\"font-weight: 400;\">Know what a scatterplot is and how to read a barplot.</span></p>\n",
       "  <p><strong>How to Learn and Expand on These Concepts</strong></p>\n",
       "  <p><span style=\"font-weight: 400;\">There are a number of great resources out there to teach you these and similar concepts. Khan Academy is a great starting place for data science math! If you want to know what exactly we assign our applicants, you’ll just have to </span><a href=\"https://codeup.com/apply-now\"><span style=\"font-weight: 400;\">apply!</span></a></p>\n",
       "  <p> </p>\n",
       "  <h3><strong>What about once you’re in Codeup?</strong></h3>\n",
       "  <h4></h4>\n",
       "  <h4></h4>\n",
       "  <p><strong>What You Won’t Do</strong></p>\n",
       "  <p><span style=\"font-weight: 400;\">Do we do any mathematical proofs for concepts or perform derivations? No. </span></p>\n",
       "  <p><span style=\"font-weight: 400;\">Do we do any calculus and probability calculating by hand? No.</span></p>\n",
       "  <p><span style=\"font-weight: 400;\">Are we transforming equations, where we cancel out units or terms and do lots of algebraic gymnastics? No</span></p>\n",
       "  <p><strong>What You Will Do</strong></p>\n",
       "  <p><span style=\"font-weight: 400;\">Will we have Python solve our linear algebra problems for us? Yes</span></p>\n",
       "  <p><span style=\"font-weight: 400;\">Will we have Python calculate probabilities, the area under a curve, and the slope of a line for us? Yes</span></p>\n",
       "  <p><span style=\"font-weight: 400;\">Will we have Python do </span><b>all</b><span style=\"font-weight: 400;\"> of the calculus for us? Yes</span></p>\n",
       "  <p> </p>\n",
       "  <p><span style=\"font-weight: 400;\">See, the data science math and stats slice of the pie is certainly doable. If you like problem-solving and are ready to challenge yourself, you’ll love data science! If you are interested in learning about data science, just <a href=\"http://www.codeup.com/apply\">apply</a>! Our Admissions Manager can work with you to get you where you need to be starting from where you are now. Let us help you get there so you can launch a great new career.</span></p>\n",
       "  </div>},\n",
       " {'url': 'https://codeup.com/data-science/transition-into-data-science/',\n",
       "  'title': 'What is the Transition into Data Science Like? - Codeup Data Science',\n",
       "  'content': <div class=\"entry-content\">\n",
       "  <p><span style=\"font-weight: 400;\">Alumni Katy Salts and Brandi Reger joined us at a public panel event to discuss their Transition into Data Science! Keep reading to hear what stands out to them about Codeup, how Codeup helped them launch a career in data science, and what they are up to now.</span></p>\n",
       "  <h3><span style=\"font-weight: 400;\">The Panelists</span></h3>\n",
       "  <p><span style=\"font-weight: 400;\"><a href=\"https://www.linkedin.com/in/kathryn-salts/\" rel=\"noopener noreferrer\" target=\"_blank\">Katy Salts</a> graduated from Codeup’s first Data Science cohort back in June of 2019. She has since started working as a Data Scientist at Cyber Fortress, where she has been for about a year. Prior to joining Codeup, Katy studied and worked in biology. </span></p>\n",
       "  <p><span style=\"font-weight: 400;\"><a href=\"https://www.linkedin.com/in/brandireger/\" rel=\"noopener noreferrer\" target=\"_blank\">Brandi Reger</a> graduated from Codeup in July of 2020 with our third Data Science cohort. She has since been hired as a Data Engineer at HEB. Prior to joining Codeup, Brandi had just gotten a degree in Geology in pursuit of becoming an Archeologist after serving in the Army for 5 years. She minored in Statistics, which she wanted to pursue further after realizing archeology wasn’t for her.</span></p>\n",
       "  <h3><span style=\"font-weight: 400;\">Why did you choose Codeup over other routes?</span></h3>\n",
       "  <p><span style=\"font-weight: 400;\">“I didn’t have the ability to take off work and pursue a Masters Degree for 2 years or an undergrad degree for 4 years, and this was the perfect crash course. Also the cost is a lot cheaper than graduate programs and I got a lot of help with grants and scholarships.” – Katy</span></p>\n",
       "  <h3><span style=\"font-weight: 400;\">What sets Codeup’s curriculum apart?</span></h3>\n",
       "  <p><span style=\"font-weight: 400;\">“It’s very applied. You put what you learn into use and you learn why you learned it that way. In collegiate, you’ll take a test but it’s not quite the same thing as getting your hands dirty and figuring it out. Your mind can drift during lecture and you don’t really “get” it until you do a project. But since you’re doing a project on almost every topic at Codeup, that really solidified the topics we were learning for me.” – Brandi</span></p>\n",
       "  <h3><span style=\"font-weight: 400;\">How much programming did you know coming into Codeup?</span></h3>\n",
       "  <p><span style=\"font-weight: 400;\">“I could not name one programming language. I didn’t know anything. The prework was the first time I wrote a line of code. With Codeup, they will start you from the very beginning of learning programming, it’s just fast-paced.” – Katy</span></p>\n",
       "  <h3><span style=\"font-weight: 400;\">How did you address fears or doubt about whether or not you can do it?</span></h3>\n",
       "  <p><span style=\"font-weight: 400;\">“Just get your hands dirty and do it! Once you’re working on it, it turns out it’s not as bad or as hard as you thought it was. Because you don’t know it, it seems like this amazing, glorious thing in the sky but when you actually work on it you’re like ‘oh, it was just that, that’s no big deal.’ All you have to do is try and apply yourself and you’ll figure it out.” – Brandi</span></p>\n",
       "  <h3><span style=\"font-weight: 400;\">What was one of your favorite lessons?</span></h3>\n",
       "  <p><span style=\"font-weight: 400;\">“The first project we had, our instructor had to go away for the weekend so we couldn’t contact her. The whole class collectively could not come up with an answer to the problem. We were freaking out thinking like ‘We did something wrong. Why can we not figure it out? She left us!’ We were so scared. When she came back she said ‘you learned a really important lesson, and that’s that sometimes there is no answer to the question. You just need to be able to look at the data and take it for what it is.’ You can’t make things up based on the data you find. You have to come up with real conclusions. That one hit me pretty hard and I never forgot it.” – Katy</span></p>\n",
       "  <h3><span style=\"font-weight: 400;\">What advice would you give to someone in the admissions process?</span></h3>\n",
       "  <p><span style=\"font-weight: 400;\">“</span><span style=\"font-weight: 400;\">The prework is the best thing you can do for yourself coming into the program. We didn’t go in knowing everything and memorizing it all, and they didn’t expect us to either. You just have to know basic concepts. Like understand that there’s a way to do something and maybe not necessarily know how yet but know that there’s a way. So just being exposed to it ahead of time is helpful.” – Katy</span></p>\n",
       "  <h3><span style=\"font-weight: 400;\">Brandi, you had the unique experience of being in-person and virtual. What was that like?</span></h3>\n",
       "  <p><span style=\"font-weight: 400;\">“I really liked being remote. Being in class, it was distracting. My classmates, we were best friends basically while we were going through the program. So we were constantly chatting and everything. But once it was remote it was all quiet. There was nobody distracting me, and I could focus on what I was doing.We could still chat when I</span> <span style=\"font-weight: 400;\">wanted to but I could turn off chat when I needed to. Also when the teachers were talking, I had my dual monitors, so I was able to look up what they were talking about and it really solidified what I was learning. So, I got a lot out of it.” – Brandi</span></p>\n",
       "  <h3><span style=\"font-weight: 400;\">How was your experience with our student placement team?</span></h3>\n",
       "  <p><span style=\"font-weight: 400;\">“They are not messing around! I mean, they start early and they leave no stone unturned! They come in and they’re completely revamping your Linkedin, email, photos, what you should and should not post. One-on-one meetings about what you’re looking for in a company and how they can help you get there, what connections they have, who to talk to, who to connect with. How to answer phone calls. Interview questions in class, like answering them together, answering them one-on-one. Mock interviews, resume building. Beginning to end, I mean, </span><b>that alone was worth it</b><span style=\"font-weight: 400;\"> to go through Codeup because no other place gives you that much attention on one single student, and everybody got that attention, and everybody got jobs! And that’s because of all the work they put into getting you ready not just technically, but professionally. They will get you there if you just listen to them and don’t fight back, don’t argue. Just do what they’re saying because they’ve done this enough times and they know what works. Just trust them.” – Katy</span></p>\n",
       "  <h3><span style=\"font-weight: 400;\">What does working in the field look like? </span></h3>\n",
       "  <p><span style=\"font-weight: 400;\">“My job is awesome! I get to work from home. It’s definitely constant learning. I think Codeup really prepared me for that because they didn’t </span><i><span style=\"font-weight: 400;\">just</span></i><span style=\"font-weight: 400;\"> teach me how to code- they taught me how to learn and how to learn quickly. I carried that into my job and my job taught me not only to code but also to be able to apply that to a business model. Learning doesn’t stop after Codeup.” – Katy</span></p>\n",
       "  <h3><span style=\"font-weight: 400;\">What’s a typical day in the life for you?</span></h3>\n",
       "  <p><span style=\"font-weight: 400;\">“I just started a couple of weeks ago so right now a day in the life is reading things and trying to figure out what they are. There are multiple data engineering teams so we all get together and talk about the projects we’re working on and new projects coming down the line. Or we’ll talk to the Data Scientists and they’ll tell us how they’re using our products and what they need from us, and we get to see what happens with the data we’re cleaning and putting together. It’s a constant moving forward and checking in with each other. At this job, you use every programming language you learn at Codeup and 10 others that I don’t even know yet. Everything you learn is useful for something. Codeup teaching you how to learn is very useful because there are still a lot of things I need to learn now.” – Brandi</span></p>\n",
       "  <h3><span style=\"font-weight: 400;\">What distinguishes a Data Engineer from a Data Scientist?</span></h3>\n",
       "  <p><span style=\"font-weight: 400;\">“As a Data Engineer, I clean up the data and put it together in a way that makes sense. We take the data in a nasty, messy state, it’s all over the place, and make it nice and neat so that somebody else can figure something out from it.” – Brandi</span></p>\n",
       "  <h3><span style=\"font-weight: 400;\">Is there anything that surprised you in terms of what was considered “data science” during your job search?</span></h3>\n",
       "  <p><span style=\"font-weight: 400;\"> “You have to think of data science as a spectrum of things and on that spectrum you can specialize in different areas, like just gathering data, or just cleaning, just modeling, just making presentations or dashboards. A lot of businesses don’t know what they actually need. They’ll say they need one thing but really what they’re asking for is something else. So you need to be able to sort through those and ask clear questions in interviews. That was a tough lesson to learn in the job search.” -Katy</span></p>\n",
       "  <p> </p>\n",
       "  <p>More personal quotes include Katy saying that this was “the best thing I’ve done” and Brandi saying that the experience “made me a better person.” Thank you both for joining us! At Codeup, we don’t just teach code – we are in the business of empowering life change!</p>\n",
       "  <p><strong>If you’re ready to pursue a new, fulfilling career, check out our blog “<a href=\"https://codeup.com/what-data-science-career-is-for-you/\">What Data Science Career is For You?</a>” to continue leaning into this exciting field.</strong></p>\n",
       "  </div>},\n",
       " {'url': 'https://codeup.com/data-science/data-science-career/',\n",
       "  'title': 'What Data Science Career is For You? - Codeup Data Science',\n",
       "  'content': <div class=\"entry-content\">\n",
       "  <p><span style=\"font-weight: 400;\">If you’re struggling to see yourself as a data science professional, it may be because the field of data science can be rather broad. While many positions in data science work across the entire data science pipeline, some are more active in a particular area. Codeup prepares you to take any number of data science career paths throughout this pipeline. To help explain the differences, we’ll discuss where some of our alumni have ended up. Keep reading to see what appeals to you!</span></p>\n",
       "  <h3><span style=\"font-weight: 400;\">Data: Plan and Acquire</span></h3>\n",
       "  <p><span style=\"font-weight: 400;\">First up is the</span> <span style=\"font-weight: 400;\">data portion of the data science pipeline, where we plan and acquire the data. </span></p>\n",
       "  <p><b>Business Analysts</b><span style=\"font-weight: 400;\"> like Jesse Ruiz and Jeff Hutchins, as well as </span><b>People Analytics Specialists </b><span style=\"font-weight: 400;\">like Tim Sotirhos help their companies or departments identify what questions need to be answered, and what data they need to answer those questions. This often involves researching or reviewing existing processes and strategizing how they can be improved. They may work closely with project managers to create an action plan.</span></p>\n",
       "  <h3><span style=\"font-weight: 400;\">Information: Process and Prepare</span></h3>\n",
       "  <p><span style=\"font-weight: 400;\">Then, in the </span><b>information</b><span style=\"font-weight: 400;\"> portion, we process and prepare the data for future exploration.</span></p>\n",
       "  <p><b>Data Analysts</b><span style=\"font-weight: 400;\"> like Matthew Zapata aggregate and manage, that is, combine, process, prepare, and store, the data for easy access. They research and improve on data quality and safeguard against data loss or errors. They also explore the data for potential relationships between variables, usefulness, and outliers. Data Analysts may also acquire the data and/or analyze the data for potential insights, but typically do not build and deploy machine learning models.</span></p>\n",
       "  <h3><span style=\"font-weight: 400;\">Knowledge: Explore and Analyze</span></h3>\n",
       "  <p><span style=\"font-weight: 400;\">In the</span><b> knowledge </b><span style=\"font-weight: 400;\">portion, data is analyzed and turned into meaningful statistics</span></p>\n",
       "  <p><span style=\"font-weight: 400;\">This stage is typically combined with Information or Intelligence rather than existing on its own. In a given company, their </span><b>Data Analysts</b><span style=\"font-weight: 400;\"> may both prepare and explore data, or the </span><b>Machine Learning Engineers</b><span style=\"font-weight: 400;\"> will both explore and model the data.</span><b> Data Scientists</b><span style=\"font-weight: 400;\">, the broadest career in data science, typically will do all three, like Ednalyn De Dios. Unlike other data professionals (unless otherwise trained), Data Scientists can work anywhere along this continuum. </span></p>\n",
       "  <h3><span style=\"font-weight: 400;\">Intelligence: Model</span></h3>\n",
       "  <p><span style=\"font-weight: 400;\">Once we have that knowledge, we use the </span><b>intelligence</b><span style=\"font-weight: 400;\"> stage to turn it into future predictions with machine learning models.</span></p>\n",
       "  <p><span style=\"font-weight: 400;\">When the data is ready, </span><b>Machine Learning Engineers</b><span style=\"font-weight: 400;\"> like Michael Moran and Eric Escalante write the algorithms necessary to build, deploy, and continue to improve upon machine learning models. A machine learning model is a file that uses an algorithm to identify patterns and trends from data.</span></p>\n",
       "  <p><b>Decision Science Analysts</b><span style=\"font-weight: 400;\">, like Jeff Roeder, use math, stats, and machine learning models to convert intelligence-driven insights to actionable recommendations. They answer the questions asked by Business Analysts earlier in the timeline to draw conclusions for their company.</span></p>\n",
       "  <h3><span style=\"font-weight: 400;\">Action: Delivery</span></h3>\n",
       "  <p><span style=\"font-weight: 400;\">Finally, the </span><b>action </b><span style=\"font-weight: 400;\">stage lets us integrate these insights into tests, then continue to monitor and evaluate new data.</span></p>\n",
       "  <p><b>Security Data Analysts</b><span style=\"font-weight: 400;\"> like Sara Pena need to be able to identify trends from automated models that they or someone else created. They meet with stakeholders to discuss their analysis and help develop tests and prototypes of their recommendations. They then own and execute projects related to continuous improvement of their company’s processes.</span></p>\n",
       "  <h3></h3>\n",
       "  <h3><span style=\"font-weight: 400;\">Where Do You Fit In?</span></h3>\n",
       "  <p><span style=\"font-weight: 400;\">It’s totally possible for YOU to take on any of these job titles! Maybe it’s time to explore these careers even further, especially if one excited you. While Codeup does prepare and train Data Scientists, you may find your niche and prefer one stage to another. Whatever you choose, Codeup will help you land the job you want not only with our expert, employer-driven curriculum but also with professional help and placement services. Click </span><a href=\"https://codeup.com/getting-hired-in-a-remote-environment/\"><span style=\"font-weight: 400;\">here</span></a><span style=\"font-weight: 400;\"> to learn how we help you land a job you love.</span></p>\n",
       "  <p><a href=\"/apply-now/\">Apply today</a> to become a Data Scientist.</p>\n",
       "  </div>},\n",
       " {'url': 'https://codeup.com/data-science/data-science-without-a-degree/',\n",
       "  'title': 'From Slacker to Data Scientist: Journey to Data Science Without a Degree',\n",
       "  'content': <div class=\"entry-content\">\n",
       "  <p><i><span style=\"font-weight: 400;\">Butterflies in my belly; my stomach is tied up in knots. I know I’m taking a risk by sharing my story, but I wanted to reach out to others aspiring to be a data scientist. I am writing this with hopes that my story will encourage and motivate you. </span></i></p>\n",
       "  <p>____________________________________________________________________________________________________________________________________</p>\n",
       "  <p><span style=\"font-weight: 400;\">I don’t have a PhD. Heck, I don’t have </span><i><span style=\"font-weight: 400;\">any </span></i><span style=\"font-weight: 400;\">degree. Still, I am very fortunate to work as a data scientist in a ridiculously good company. <strong>Here’s how I did it (with a lot of help).</strong></span></p>\n",
       "  <p> </p>\n",
       "  <h2><b>Formative Years</b></h2>\n",
       "  <p><span style=\"font-weight: 400;\">It was 1995 and I had just gotten my very first computer. It was a 1982 Apple IIe. It didn’t come with any software but it came with a manual. That’s how I learned my very first computer language: Apple BASIC.</span></p>\n",
       "  <p><span style=\"font-weight: 400;\">My love for <strong>programming</strong> was born.</span></p>\n",
       "  <p><span style=\"font-weight: 400;\">In Algebra class, I remember learning about the quadratic equation. I had a cheap graphic calculator then, a Casio, that’s about half the price of a TI-82. It came with a manual too, so I decided to write a program that will solve the quadratic equation for me without much hassle.</span></p>\n",
       "  <p><span style=\"font-weight: 400;\">My love for <strong>solving problems</strong> was born.</span></p>\n",
       "  <p><span style=\"font-weight: 400;\">In my senior year, my parents didn’t know anything about financial aid but I was determined to go to college so I decided to join the Navy so that I could use Montgomery GI Bill to pay for my college. After all, four years of service didn’t seem that long.</span></p>\n",
       "  <p><span style=\"font-weight: 400;\">My love for <strong>adventure</strong> was born.</span></p>\n",
       "  <p><span style=\"font-weight: 400;\">Later in my career in the Navy, I was promoted as the ship’s financial manager. I was in charge of managing multiple budgets. The experience taught me bookkeeping.</span></p>\n",
       "  <p><span style=\"font-weight: 400;\">My love for <strong>numbers</strong> was born.</span></p>\n",
       "  <p><span style=\"font-weight: 400;\">After the Navy, I ended up volunteering for a non-profit. They eventually recruited me to start a domestic violence crisis program from scratch. I had no social work experience but I agreed anyway.</span></p>\n",
       "  <p><span style=\"font-weight: 400;\">My love for saying <strong>“Why not?”</strong> was born.</span></p>\n",
       "  <p> </p>\n",
       "  <h2><b>Rock Bottom</b></h2>\n",
       "  <p><span style=\"font-weight: 400;\">After a few successful years, my boss retired and the new boss fired me. I was devastated. I fell into a deep state of clinical depression and I felt worthless.</span></p>\n",
       "  <p><span style=\"font-weight: 400;\">I recall crying very loudly at the kitchen table. It had been more than a year since my non-profit job and I was nowhere near close to having a prospect for the next one. I was in a very dark space.</span></p>\n",
       "  <p><span style=\"font-weight: 400;\">Thankfully, the crying fit was a cathartic experience. It gave me a jolt to do some introspection, stop whining, and come up with a plan.</span></p>\n",
       "  <blockquote><p><span style=\"font-weight: 400;\">“Choose a Job You Love, and You Will Never Have To Work a Day in Your Life.” — Anonymous</span></p></blockquote>\n",
       "  <p> </p>\n",
       "  <h2><b>Falling in Love, All Over Again</b></h2>\n",
       "  <p><span style=\"font-weight: 400;\">To pay the bills, I was working as a freelance web designer/developer but I wasn’t happy. Frankly, the business of doing web design bored me. It was frustrating working with clients who think and act like they’re the expert on design.</span></p>\n",
       "  <p><span style=\"font-weight: 400;\">So I started thinking, “what’s next?”</span></p>\n",
       "  <p><span style=\"font-weight: 400;\">Searching the web, I stumbled upon the latest news in artificial intelligence. It led me to machine learning which in turn led me to the subject of data science.</span></p>\n",
       "  <p><span style=\"font-weight: 400;\">I signed up for Andrew Ng’s </span><a href=\"https://www.coursera.org/learn/machine-learning\" rel=\"noopener noreferrer\" target=\"_blank\"><span style=\"font-weight: 400;\">machine learning</span></a><span style=\"font-weight: 400;\"> course on Coursera. I listened to TwitML, Linear Digression, and a few other podcasts. I revisited Python and got reacquainted with git on Github.</span></p>\n",
       "  <p><span style=\"font-weight: 400;\">My love for <strong>data science</strong> was born.</span></p>\n",
       "  <p><span style=\"font-weight: 400;\">It was at this time that I made the conscious decision to be a data scientist.</span></p>\n",
       "  <p> </p>\n",
       "  <h2><b>Leap of Faith</b></h2>\n",
       "  <p><span style=\"font-weight: 400;\">Learning something new was fun for me. But still, I had that voice in my head telling me that no matter how much I study and learn, </span><b>I will never get a job in <span data-sheets-userformat='{\"2\":769,\"3\":{\"1\":0},\"11\":4,\"12\":0}' data-sheets-value='{\"1\":2,\"2\":\"data science without a degree\"}'>data science without a degree</span>.</b></p>\n",
       "  <p><span style=\"font-weight: 400;\">So, I took a hard look in the mirror and acknowledged that I needed help. But I wasn’t sure where to look.</span></p>\n",
       "  <p><span style=\"font-weight: 400;\">Then one day out of the blue, my girlfriend asked me what data science is. I jumped off my feet and started explaining right away. Once I stopped explaining to catch a breath, I managed to ask her why she asked. And that’s when she told me that she’d seen a sign on a billboard. We went for a drive and I saw the sign for myself. It was a curious billboard with two big words “data science” and a smaller one that says “Codeup.” I went to their website and researched their </span><a href=\"https://codeup.com/resources/#outcomes\" rel=\"noopener noreferrer\" target=\"_blank\"><span style=\"font-weight: 400;\">employment outcomes.</span></a></p>\n",
       "  <p><span style=\"font-weight: 400;\">I was sold.</span></p>\n",
       "  <p> </p>\n",
       "  <h2><b>Preparation</b></h2>\n",
       "  <p><span style=\"font-weight: 400;\">Before the start of the class, we were given a list of materials to go over.</span></p>\n",
       "  <ul>\n",
       "  <li style=\"font-weight: 400;\"><a href=\"https://www.coursera.org/learn/datasciencemathskills/\" rel=\"noopener noreferrer\" target=\"_blank\"><span style=\"font-weight: 400;\">Data Science Math Skills — Coursera</span></a></li>\n",
       "  <li style=\"font-weight: 400;\"><a href=\"https://www.coursera.org/learn/linear-algebra-machine-learning\" rel=\"noopener noreferrer\" target=\"_blank\"><span style=\"font-weight: 400;\">Mathematics for Machine Learning: Linear Algebra — Coursera</span></a></li>\n",
       "  <li style=\"font-weight: 400;\"><a href=\"https://www.coursera.org/learn/basic-statistics\" rel=\"noopener noreferrer\" target=\"_blank\"><span style=\"font-weight: 400;\">Basic Statistics — Coursera</span></a></li>\n",
       "  <li style=\"font-weight: 400;\"><a href=\"https://www.coursera.org/learn/python-for-applied-data-science/home/welcome\" rel=\"noopener noreferrer\" target=\"_blank\"><span style=\"font-weight: 400;\">Python for Data Science — Coursera</span></a></li>\n",
       "  <li style=\"font-weight: 400;\"><a href=\"https://www.udemy.com/excel_quickstart/\" rel=\"noopener noreferrer\" target=\"_blank\"><span style=\"font-weight: 400;\">Excel Basics — Udemy</span></a></li>\n",
       "  <li style=\"font-weight: 400;\"><a href=\"https://www.codecademy.com/learn/learn-the-command-line\" rel=\"noopener noreferrer\" target=\"_blank\"><span style=\"font-weight: 400;\">Learning the Command Line — Codecademy</span></a></li>\n",
       "  </ul>\n",
       "  <p><span style=\"font-weight: 400;\">Given that I had only about two months to prepare, I was not expected to finish the courses. But, I did them anyway. I spent day and night going over the courses and materials, did the tests, and got the certificates! I knew then that I could get into <span data-sheets-userformat='{\"2\":769,\"3\":{\"1\":0},\"11\":4,\"12\":0}' data-sheets-value='{\"1\":2,\"2\":\"data science without a degree\"}'>data science without a degree.</span></span></p>\n",
       "  <p> </p>\n",
       "  <h2><b>Bootcamp</b></h2>\n",
       "  <p><span style=\"font-weight: 400;\">Codeup was a blur. We had a saying in the Navy about the bootcamp experience: “the days drag on but the weeks fly by.” This was definitely true for the Codeup bootcamp as well.</span></p>\n",
       "  <p><span style=\"font-weight: 400;\">We were coding in Python, querying the SQL database, and making dashboards in Tableau. We did projects after projects. We learned about different methodologies like regression, classification, clustering, time-series, anomaly detection, natural language processing, and distributed machine learning.</span></p>\n",
       "  <p><strong>More important than the specific tools, I learned: </strong></p>\n",
       "  <ul>\n",
       "  <li><span style=\"font-weight: 400;\">Real data is messy; deal with it.</span></li>\n",
       "  <li>If you can’t communicate with your stakeholders, you’re useless.</li>\n",
       "  <li>Document your code.</li>\n",
       "  <li>Read the documentation.</li>\n",
       "  <li>Always be learning.</li>\n",
       "  </ul>\n",
       "  <p> </p>\n",
       "  <h2><b>Job Hunting</b></h2>\n",
       "  <p><span style=\"font-weight: 400;\">Our job hunting process started from day one. We updated our LinkedIn profile and made sure that we were pushing to Github almost every day. I even spruced up my personal website to include the projects we did during class. And of course, we made sure that our resumé was in good shape.</span></p>\n",
       "  <p><span style=\"font-weight: 400;\">Codeup helped me with all of these.</span></p>\n",
       "  <p><span style=\"font-weight: 400;\">In addition, Codeup also helped prepare me for both technical and behavioral interviews. The student placement team taught me how to optimize answers to highlight my strengths as a high-potential candidate.</span></p>\n",
       "  <p> </p>\n",
       "  <h2><b>Post-Graduation</b></h2>\n",
       "  <p><span style=\"font-weight: 400;\">My education continued even after graduation. In between filling out applications, I wrote code every day and tried out different Python libraries. I regularly read the news for the latest developments in machine learning. While doing chores, I would listen to a podcast, a TedTalk, or a LinkedIn learning video. When bored, I listened to or read books about data or professional development.</span></p>\n",
       "  <p><span style=\"font-weight: 400;\">I’ve had a lot of rejections. The first one was the hardest but after that, it kept getting easier. I developed a thick skin and learned to keep moving.</span></p>\n",
       "  <p> </p>\n",
       "  <h2><b>Conclusion</b></h2>\n",
       "  <p><span style=\"font-weight: 400;\">It took me 3 months after graduating from Codeup to get a job. When I got the job offer, I felt very grateful, relieved, and excited.</span></p>\n",
       "  <p><span style=\"font-weight: 400;\">I could not have done it without Codeup and my family’s support. It <em>is</em> possible to start a career in <span data-sheets-userformat='{\"2\":769,\"3\":{\"1\":0},\"11\":4,\"12\":0}' data-sheets-value='{\"1\":2,\"2\":\"data science without a degree\"}'>data science without a degree!</span></span></p>\n",
       "  <p>____________________________________________________________________________________________________________________________________</p>\n",
       "  <p><i><span style=\"font-weight: 400;\">This blog post was written by </span></i><a href=\"https://towardsdatascience.com/@ednalyn.dedios?source=follow_footer--------------------------follow_footer-\" rel=\"noopener noreferrer\" target=\"_blank\"><i><span style=\"font-weight: 400;\">Ednalyn C. De Dios</span></i></a><i><span style=\"font-weight: 400;\"> for </span></i><a href=\"https://towardsdatascience.com/from-slacker-to-data-scientist-b4f34aa10ea1\" rel=\"noopener noreferrer\" target=\"_blank\"><i><span style=\"font-weight: 400;\">Towards Data Science</span></i></a><i><span style=\"font-weight: 400;\">: A Medium publication sharing concepts, ideas, and codes. An edited version is being shared on Codeup with permission from the author. You can reach them on </span></i><a href=\"https://twitter.com/ecdedios\" rel=\"noopener noreferrer\" target=\"_blank\"><i><span style=\"font-weight: 400;\">Twitter</span></i></a><i><span style=\"font-weight: 400;\"> or </span></i><a href=\"https://www.linkedin.com/in/ednalyn-de-dios/\" rel=\"noopener noreferrer\" target=\"_blank\"><i><span style=\"font-weight: 400;\">LinkedIn</span></i></a><i><span style=\"font-weight: 400;\">.</span></i></p>\n",
       "  <p>____________________________________________________________________________________________________________________________________</p>\n",
       "  <p><strong>If you’d like to learn more about how Codeup can help you launch your career in data science without a degree (or with!), <a href=\"https://app.hubspot.com/meetings/sarah187/general-infoquestions-round-robin\" rel=\"noopener noreferrer\" target=\"_blank\">schedule a call</a> with our team today or reach out to admissions@codeup.com!</strong></p>\n",
       "  </div>}]"
      ]
     },
     "execution_count": 11,
     "metadata": {},
     "output_type": "execute_result"
    }
   ],
   "source": [
    "get_blog_articles(urls,headers)"
   ]
  },
  {
   "cell_type": "markdown",
   "id": "dac363cc",
   "metadata": {},
   "source": [
    "##### alt codeup blog"
   ]
  },
  {
   "cell_type": "code",
   "execution_count": 12,
   "id": "93199ae6",
   "metadata": {},
   "outputs": [],
   "source": [
    "#get blog homepage soup\n",
    "site = 'https://codeup.com/blog'\n",
    "response = get(site,headers=headers)\n",
    "soup = BeautifulSoup(response.content, 'html.parser')"
   ]
  },
  {
   "cell_type": "code",
   "execution_count": 13,
   "id": "421af150",
   "metadata": {},
   "outputs": [
    {
     "data": {
      "text/plain": [
       "[<a class=\"more-link\" href=\"https://codeup.com/workshops/in-person-workshop-learn-to-code-python-on-7-19/\">read more</a>,\n",
       " <a class=\"more-link\" href=\"https://codeup.com/workshops/dallas/free-javascript-workshop-at-codeup-dallas-on-6-28/\">read more</a>,\n",
       " <a class=\"more-link\" href=\"https://codeup.com/tips-for-prospective-students/is-our-cloud-administration-program-right-for-you/\">read more</a>,\n",
       " <a class=\"more-link\" href=\"https://codeup.com/workshops/pride-in-tech-panel/\">read more</a>,\n",
       " <a class=\"more-link\" href=\"https://codeup.com/codeup-news/inclusion-at-codeup-during-pride-month-and-always/\">read more</a>,\n",
       " <a class=\"more-link\" href=\"https://codeup.com/tips-for-prospective-students/mental-health-first-aid-training/\">read more</a>,\n",
       " <a class=\"more-link\" href=\"https://codeup.com/workshops/codeup-dallas-how-to-succeed-at-a-coding-bootcamp-on-june-9th/\">read more</a>,\n",
       " <a class=\"more-link\" href=\"https://codeup.com/featured/5-reasons-to-attend-our-new-cloud-administration-program/\">read more</a>,\n",
       " <a class=\"more-link\" href=\"https://codeup.com/workshops/learn-to-code-python-on-5-21/\">read more</a>,\n",
       " <a class=\"more-link\" href=\"https://codeup.com/dallas-newsletter/codeup-dallas-joins-career-day/\">read more</a>,\n",
       " <a class=\"more-link\" href=\"https://codeup.com/workshops/project-quest-info-session-may-24th/\">read more</a>,\n",
       " <a class=\"more-link\" href=\"https://codeup.com/workshops/from-bootcamp-to-bootcamp-a-military-appreciation-panel/\">read more</a>,\n",
       " <a class=\"more-link\" href=\"https://codeup.com/featured/our-acquisition-of-the-rackspace-cloud-academy-one-year-later/\">read more</a>,\n",
       " <a class=\"more-link\" href=\"https://codeup.com/workshops/virtual/learn-to-code-html-css-on-4-30/\">read more</a>,\n",
       " <a class=\"more-link\" href=\"https://codeup.com/workshops/virtual/learn-to-code-python-workshop-on-4-16/\">read more</a>]"
      ]
     },
     "execution_count": 13,
     "metadata": {},
     "output_type": "execute_result"
    }
   ],
   "source": [
    "#What if I want to pull all the blog articles\n",
    "#The non-featured articles can be accessed via their read more buttons:\n",
    "\n",
    "soup.select('.more-link') #class in the href"
   ]
  },
  {
   "cell_type": "code",
   "execution_count": 14,
   "id": "17f334df",
   "metadata": {},
   "outputs": [
    {
     "data": {
      "text/plain": [
       "[<a href=\"https://codeup.com/featured/what-jobs-can-you-get-after-a-coding-bootcamp-part-2-cloud-administration/\">What Jobs Can You Get After a Coding Bootcamp? Part 2: Cloud Administration</a>,\n",
       " <a href=\"https://codeup.com/data-science/jobs-after-a-coding-bootcamp-part-1-data-science/\">What Jobs Can You Get After a Coding Bootcamp? Part 1: Data Science</a>,\n",
       " <a href=\"https://codeup.com/tips-for-prospective-students/is-our-cloud-administration-program-right-for-you/\">Is Our Cloud Administration Program Right for You?</a>,\n",
       " <a href=\"https://codeup.com/featured/5-reasons-to-attend-our-new-cloud-administration-program/\">5 Reasons To Attend Our New Cloud Administration Program</a>,\n",
       " <a href=\"https://codeup.com/featured/what-jobs-can-you-get-after-a-coding-bootcamp-part-2-cloud-administration/\">What Jobs Can You Get After a Coding Bootcamp? Part 2: Cloud Administration</a>]"
      ]
     },
     "execution_count": 14,
     "metadata": {},
     "output_type": "execute_result"
    }
   ],
   "source": [
    "#if I want the top ones\n",
    "#go to the h2, then get every a with a link inside of it\n",
    "soup.select('h2 a[href]')[0:5]"
   ]
  },
  {
   "cell_type": "code",
   "execution_count": 15,
   "id": "8c8b3daa",
   "metadata": {},
   "outputs": [
    {
     "data": {
      "text/plain": [
       "'https://codeup.com/featured/what-jobs-can-you-get-after-a-coding-bootcamp-part-2-cloud-administration/'"
      ]
     },
     "execution_count": 15,
     "metadata": {},
     "output_type": "execute_result"
    }
   ],
   "source": [
    "#can grab link like a dictionary reference\n",
    "soup.select('h2 a[href]')[0]['href']"
   ]
  },
  {
   "cell_type": "code",
   "execution_count": 16,
   "id": "8c73fc68",
   "metadata": {},
   "outputs": [
    {
     "data": {
      "text/plain": [
       "['https://codeup.com/featured/what-jobs-can-you-get-after-a-coding-bootcamp-part-2-cloud-administration/',\n",
       " 'https://codeup.com/data-science/jobs-after-a-coding-bootcamp-part-1-data-science/',\n",
       " 'https://codeup.com/tips-for-prospective-students/is-our-cloud-administration-program-right-for-you/',\n",
       " 'https://codeup.com/featured/5-reasons-to-attend-our-new-cloud-administration-program/',\n",
       " 'https://codeup.com/featured/what-jobs-can-you-get-after-a-coding-bootcamp-part-2-cloud-administration/']"
      ]
     },
     "execution_count": 16,
     "metadata": {},
     "output_type": "execute_result"
    }
   ],
   "source": [
    "[a['href'] for a in soup.select('h2 a[href]')][0:5] "
   ]
  },
  {
   "cell_type": "code",
   "execution_count": 17,
   "id": "737a3664",
   "metadata": {},
   "outputs": [],
   "source": [
    "def get_blog_links():\n",
    "    #get blog homepage soup\n",
    "    site = 'https://codeup.com/blog'\n",
    "    response = get(site,headers=headers)\n",
    "    soup = BeautifulSoup(response.content, 'html.parser')\n",
    "    urls = [a['href'] for a in soup.select('h2 a[href]')]\n",
    "    return urls"
   ]
  },
  {
   "cell_type": "code",
   "execution_count": 18,
   "id": "ee8623c4",
   "metadata": {},
   "outputs": [],
   "source": [
    "#ALT way of getting the title content (after getting the url)\n",
    "response = get(urls[0],headers=headers)\n",
    "soup2 = BeautifulSoup(response.text)"
   ]
  },
  {
   "cell_type": "code",
   "execution_count": 19,
   "id": "07eb560d",
   "metadata": {},
   "outputs": [
    {
     "data": {
      "text/plain": [
       "<h1 class=\"entry-title\">What Jobs Can You Get After a Coding Bootcamp? Part 1: Data Science</h1>"
      ]
     },
     "execution_count": 19,
     "metadata": {},
     "output_type": "execute_result"
    }
   ],
   "source": [
    "soup2.find('h1',class_='entry-title')"
   ]
  },
  {
   "cell_type": "code",
   "execution_count": 20,
   "id": "91c7b0de",
   "metadata": {},
   "outputs": [
    {
     "data": {
      "text/plain": [
       "'\\nIf you are interested in embarking on a career in tech, you’re probably wondering what your new job title could be, and even what your salary might look like.*\\xa0In this mini-series, we will take each of our programs here at Codeup: Data Science, Web Development, and Cloud Administration, and outline respectively potential job titles, as well as entry-level salaries.\\xa0Today we will be diving into our Data Science program, with four potential job titles you could take on!\\nProgram Overview\\xa0\\nDuring this 20-week program, you will have the opportunity to take your career to new heights with data science being one of the most needed jobs in tech. You’ll gather data, then clean it, explore it for trends, and apply machine learning models to make predictions.\\nUpon completing this program, you will know how to turn insights into actionable recommendations. You’ll be a huge asset to any company, having all the technical skills to become a data scientist with projects upon projects of experience under your belt.\\xa0\\n1. Data Scientist\\xa0\\nEssentially, a Data Scientist is responsible for analyzing how a business performs to ensure the business stays competitive and relevant. They review the data for deeper meaning and examine it for patterns in an effort to create solutions to business problems. According to Zip Recruiter, the average entry-level salary for a Data Scientist in Texas is $60,677.\\n2. Data Analyst\\nA Data Analyst finds ways to solve a business’ problems through raw data analysis. They are then responsible for sharing this information with management and stakeholders. According to Indeed, the average entry-level salary for a Data Analyst is $60,332.\\n3. Machine Learning Engineer\\xa0\\nA Machine Learning (ML) Engineer is usually on a Data Science team. They are responsible for artificial intelligence, and its functions as well as making predictions on other machine learning capabilities. They will create ML prototypes and models, then test and retrain where necessary. According to Salary.com, the average entry-level salary for a ML Engineer is $115,795.\\n4. Business Intelligence Analyst\\xa0\\nA Business Intelligence Analyst, also known as a BI Analyst is responsible for understanding computer programming languages. Their primary goal is to give accurate insight to decision-makers regarding the market, productivity, competition, and customer responses. According to Payscale, the average entry-level salary for a BI Analyst is $58,627.\\nWe understand changing careers can be scary. If you chose Codeup, we will make sure you are plenty prepared to not only take on one of these roles but succeed in it.\\xa0\\nThis program gives you more than a textbook and a bank of pre-recorded lectures. You get hands-on instruction from industry experts, along with the power to change your life.\\xa0\\nIf you’re ready, apply today and let’s turn your dreams into reality and get your seat secured in our next Data Science cohort.\\xa0\\n\\xa0\\n*Disclaimer: All information presented in this article is by no means guaranteed by completing a Codeup program. Salaries and duties vary based on factors such as company, location, and experience. These salaries are estimates based on San Antonio, TX data, and these duties are general and may not be exact for every position. \\n\\xa0\\n'"
      ]
     },
     "execution_count": 20,
     "metadata": {},
     "output_type": "execute_result"
    }
   ],
   "source": [
    "soup2.find('div', class_='entry-content').text"
   ]
  },
  {
   "cell_type": "code",
   "execution_count": 21,
   "id": "daad7a5a",
   "metadata": {},
   "outputs": [],
   "source": [
    "###NOT FINISHED PLAYING AROUND WITH THIS ALTERNATIVE\n"
   ]
  },
  {
   "cell_type": "markdown",
   "id": "38d39e9f",
   "metadata": {},
   "source": [
    "### News Articles"
   ]
  },
  {
   "cell_type": "code",
   "execution_count": 22,
   "id": "70c6370e",
   "metadata": {},
   "outputs": [],
   "source": [
    "#looking at business\n",
    "base_url = 'https://inshorts.com/en/read/'\n",
    "section = 'business'"
   ]
  },
  {
   "cell_type": "code",
   "execution_count": 23,
   "id": "87ba56df",
   "metadata": {},
   "outputs": [],
   "source": [
    "#first article selector: body > div.container > div > div.card-stack > div:nth-child(2) > div\n",
    "section_url=base_url + section\n",
    "#get page\n",
    "response = get(section_url,headers=headers)\n",
    "#turn into soup object\n",
    "soup = BeautifulSoup(response.content,'html.parser')\n"
   ]
  },
  {
   "cell_type": "code",
   "execution_count": 24,
   "id": "11fd1653",
   "metadata": {},
   "outputs": [
    {
     "data": {
      "text/plain": [
       "[<div itemprop=\"articleBody\">The rupee hit a record low of 79.97 against the US dollar on Monday after opening at 79.76. The Finance Ministry, while speaking about the matter said that global factors such as the Russia-Ukraine war, soaring crude oil prices and tightening of global financial conditions are the major reasons for the rupee's weakening.</div>,\n",
       " <div itemprop=\"articleBody\">The rupee on Monday hit a fresh record low as it ended closer to the 80-mark to close at 79.98 against the US dollar. This was the seventh consecutive session when the rupee weakened. So far this year, the currency has weakened 7.05% against the US dollar. Meanwhile, BSE Sensex closed 760 points higher at 54,521 on Monday.</div>,\n",
       " <div itemprop=\"articleBody\">Businessman Anand Mahindra took to Twitter to praise PV Sindhu after she won the Singapore Open. Sharing a tweet by Doordarshan Sports which had an old image of Sindhu, Mahindra wrote, \"That’s not just her facial expression, but the expression of her soul. A fighter to the core...Never getting demoralised by a slump. Teaching us how to rise again.\"</div>,\n",
       " <div itemprop=\"articleBody\">In an Instagram post, Lalit Modi asserted that he neither took any government favour nor any bribes from anyone. He added, “I was born with a diamond spoon...When I joined BCCI, it had ₹40 crore in the bank. I joined on my birthday on November 29, 2005. Guess what was in the bank when I was banned - ₹47,680 crore.\"</div>,\n",
       " <div itemprop=\"articleBody\">Microsoft Co-founder Bill Gates, who plans to give away all his wealth, said, \"My giving this money is not a sacrifice at all.\" He added, \"I feel privileged to be involved in tackling these great challenges...and I believe I have an obligation to return my resources to society.\" Gates is currently the world's fourth richest person with $113 billion wealth.</div>,\n",
       " <div itemprop=\"articleBody\">Mumbai police has filed an FIR after the Securities and Exchange Board of India (SEBI) approached them, alleging the email accounts of its 11 officials had been hacked and used to send as many as 34 emails by unknown persons. \"It was a small incident. CERT-IN is fully in the loop. No sensitive data was lost,\" the markets regulator said.</div>,\n",
       " <div itemprop=\"articleBody\">The Reserve Bank of India (RBI) has recommended to the government that it should frame regulations for cryptocurrencies and is of the view that they should be prohibited, Finance Minister Nirmala Sitharaman said. Citing the borderless nature of cryptocurrencies, she further said that any legislation for regulation or for banning can be effective only after significant international collaboration.</div>,\n",
       " <div itemprop=\"articleBody\">Businessman Anand Mahindra took to Twitter to share a 2018 video of Manchester City's 44-pass goal against Manchester United and wrote, \"A lesson in teamwork...But also an analogy for how a startup...needs to operate.\" He further said that success comes from going \"back and forth, trying new angles of approach and going for the kill when strategic path is clear\".</div>,\n",
       " <div itemprop=\"articleBody\">A Delhi court has extended the four-day remand of former CEO and MD of National Stock Exchange (NSE), Chitra Ramkrishna, in a money laundering case. The case involves alleged phone tapping and snooping of NSE's employees. Earlier, the Enforcement Directorate and CBI registered two more cases against Ramkrishna, former NSE head Ravi Narain and former Mumbai Police Commissioner Sanjay Pandey.</div>,\n",
       " <div itemprop=\"articleBody\">Pre-packaged and labelled food items like curd, lassi and buttermilk will get costlier from July 18 as they'll attract 5% GST. Jaggery, khandsari sugar, puffed rice will no longer be exempt from GST. Kitchen utensils like knives, spoons, forks, and stationery items like pencil sharpeners, maps, globes and electrical appliances such as LED lights and fixtures will also get costlier.</div>,\n",
       " <div itemprop=\"articleBody\">One of the frontrunners for the UK PM's post, Rishi Sunak, said he is proud of what his parents-in-law built. Speaking about Infosys Founder NR Narayana Murthy, Sunak said, \"My father-in-law came from...nothing and just had a dream and a couple of hundred pounds [from my] mother-in-law's savings…He...built one of the world's largest...companies that...employs thousands of people...in the UK.\"</div>,\n",
       " <div itemprop=\"articleBody\">The world's largest oil exporter, Saudi Arabia, more than doubled its Russian oil imports in the second quarter, enabling it to free up its own crude for export, as per data accessed by Reuters. It imported 6,47,000 tonnes of Russian oil from April to June. Russia has been selling fuel at discounted prices amid Western sanctions over the Ukraine war.</div>,\n",
       " <div itemprop=\"articleBody\">Inflation in New Zealand has surged at its fastest pace in over three decades. As per official data, the Consumer Price Index increased 7.3% in the second quarter, up from 6.9% in the first quarter and the fastest since the June quarter of 1990 when prices rose 7.6%. Economists had predicted that inflation would come in at 7% or 7.1%.</div>,\n",
       " <div itemprop=\"articleBody\">The Finance Ministry has clarified that single packages of pre-packed and labelled food items like cereals and pulses weighing over 25 kg are exempt from 5% GST. It added that if a retail shopkeeper supplies an item in a loose quantity that was bought in a 25-kg pack from a manufacturer, its sale to the consumer will not attract GST.</div>,\n",
       " <div itemprop=\"articleBody\">In a blog, Microsoft Co-founder Bill Gates said that though the foundation is named Bill &amp; Melinda Gates Foundation, \"half of its resources to date have come from Warren Buffett's gifts\". Gates wrote, \"Since 2006, Warren has gifted the foundation $35.7 billion, including his most recent gift of $3.1 billion in June.\"</div>,\n",
       " <div itemprop=\"articleBody\">The Pakistani rupee has dropped to a record low against the US dollar with the exchange rate sliding to PKR 212, local media reported on Monday. This fall in the value came after traders resorted to panic buying on reports that some commercial banks had run out of foreign currency, reports stated.</div>,\n",
       " <div itemprop=\"articleBody\">The Delhi High Court dismissed a plea seeking to stop the operations of SpiceJet over recent technical snags. The plea cited several incidents involving SpiceJet flights and claimed that passengers' lives are at risk due to their improper management. The DGCA has taken note of incidents involving SpiceJet flights and is free to proceed on its own, the court noted.</div>,\n",
       " <div itemprop=\"articleBody\">Electric vehicles, whether or not fitted with a battery pack, will be eligible for the concessional GST rate of 5% from July 18. GST on renting trucks, and goods carriages (where the cost of fuel is included) will be cut to 12% from 18%. GST on ostomy appliances and orthopaedic equipment like splints will be reduced from 12% to 5%.</div>,\n",
       " <div itemprop=\"articleBody\">Hindustan Unilever (HUL), ITC and United Spirits together added over 130 executives to the club of those earning more than ₹1 crore annually during the last fiscal, The Economic Times reported. United Spirits witnessed a massive jump of 113%, whereas HUL and ITC saw 33% and 44% increase in the number of eight-figure salary earners, as per their annual reports.</div>,\n",
       " <div itemprop=\"articleBody\">The Securities and Exchange Board of India has approved the appointment of Ashish Kumar Chauhan as the new MD and CEO of the NSE. Chauhan is currently the MD and CEO of the BSE and will replace Vikram Limaye whose term ended as NSE chief on July 16. The appointment is subject to Chauhan accepting the offer. </div>,\n",
       " <div itemprop=\"articleBody\">Prices of one of the most popular Indian edible oil brands Fortune have been cut by up to ₹30 per litre amid a fall in global prices. This is the second oil price reduction announced by the brand's maker Adani Wilmar in two months. Prices of soyabean and sunflower oils have been cut to ₹165 and ₹195 per litre, respectively.</div>,\n",
       " <div itemprop=\"articleBody\">Civil Aviation Minister Jyotiraditya Scindia chaired a one-on-one meeting with heads of airline companies on Monday to review flight safety norms. The Aviation Ministry also issued instructions to each airline to take steps at all levels to enhance security surveillance. These steps come after a few Indian airlines reported back-to-back incidents of emergency landings due to technical issues.</div>,\n",
       " <div itemprop=\"articleBody\">The Telangana government has announced a one-time scheme (OTS) for clearing pending property tax arrears within Greater Hyderabad Municipal Corporation (GHMC) limits and all other urban local bodies. The scheme will allow a waiver of 90% on interest payment, provided that the principal amount plus 10% of interest on accumulated arrears is paid in one go for financial year 2021-22.</div>,\n",
       " <div itemprop=\"articleBody\">Among the 10 most valued firms, six companies suffered a combined loss of ₹1.68 lakh crore in their market valuation last week. While TCS took the biggest hit as its market valuation declined by ₹99,270.07 crore to reach ₹10,95,355.32 crore, it was followed by Infosys, whose valuation dropped by ₹35,133.64 crore to ₹6,01,900.14 crore.</div>,\n",
       " <div itemprop=\"articleBody\">Swedish fashion retailer H&amp;M said that it will exit from Russia after pausing sales there in March after Moscow's invasion of Ukraine. \"After careful consideration, we see it as impossible given the current situation to continue our business in Russia,\" Chief Executive Helena Helmersson said in a statement. H&amp;M said the move will cost $200 million and affect 6,000 staff. </div>]"
      ]
     },
     "execution_count": 24,
     "metadata": {},
     "output_type": "execute_result"
    }
   ],
   "source": [
    "#link to title #itemprop=\"headline\"\n",
    "soup.find_all(itemprop=\"headline\")\n",
    "\n",
    "#link to content #itemprop=\"articleBody\"\n",
    "soup.find_all(itemprop=\"articleBody\")\n",
    "\n",
    "###ALT - in the find_all, you can specify the tags to pull from\n",
    "#. May be beneficial if you have a more generic attribute\n",
    "#soup.find_all('div', itemprop='articleBody')"
   ]
  },
  {
   "cell_type": "code",
   "execution_count": 25,
   "id": "542c501a",
   "metadata": {},
   "outputs": [],
   "source": [
    "topics = [\"business\",\"sports\",\"technology\",\"entertainment\"]\n"
   ]
  },
  {
   "cell_type": "code",
   "execution_count": 26,
   "id": "ca742743",
   "metadata": {},
   "outputs": [],
   "source": [
    "def get_news_articles(topics,headers):\n",
    "    '''\n",
    "    Given a list of news topics, retrieve the title and content for all articles in that topic.\n",
    "    '''\n",
    "    base_url = 'https://inshorts.com/en/read/'\n",
    "    article_list = []\n",
    "    for t in topics:\n",
    "        #create section url\n",
    "        topic_url = base_url + t\n",
    "        #get the content\n",
    "        response = get(topic_url,headers=headers)\n",
    "        #convert to soup\n",
    "        soup = BeautifulSoup(response.content,'html.parser')\n",
    "        #get the headline for each article in this topic - list of headlines\n",
    "        headlines = soup.find_all(itemprop=\"headline\")\n",
    "        #get the content for each article - list of article bodies\n",
    "        bodies = soup.find_all(itemprop=\"articleBody\")\n",
    "        \n",
    "        #loop over the 'cards' \n",
    "        #but really just looping over the list of headlines and article bodies\n",
    "        for title, content in zip(headlines, bodies):\n",
    "            #add all to dictionary\n",
    "            art_dict = {\n",
    "                'title': title.text,\n",
    "                'content': content.text,\n",
    "                'category': t\n",
    "            }\n",
    "            #append this article to the list\n",
    "            article_list.append(art_dict)\n",
    "        \n",
    "    return article_list\n"
   ]
  },
  {
   "cell_type": "code",
   "execution_count": 27,
   "id": "9d284920",
   "metadata": {
    "scrolled": true
   },
   "outputs": [
    {
     "data": {
      "text/plain": [
       "[{'title': 'Rupee hits record low of 79.97 against US dollar',\n",
       "  'content': \"The rupee hit a record low of 79.97 against the US dollar on Monday after opening at 79.76. The Finance Ministry, while speaking about the matter said that global factors such as the Russia-Ukraine war, soaring crude oil prices and tightening of global financial conditions are the major reasons for the rupee's weakening.\",\n",
       "  'category': 'business'},\n",
       " {'title': 'Rupee closes at an all-time low of 79.98 against US dollar',\n",
       "  'content': 'The rupee on Monday hit a fresh record low as it ended closer to the 80-mark to close at 79.98 against the US dollar. This was the seventh consecutive session when the rupee weakened. So far this year, the currency has weakened 7.05% against the US dollar. Meanwhile, BSE Sensex closed 760 points higher at 54,521 on Monday.',\n",
       "  'category': 'business'},\n",
       " {'title': 'A fighter to the core: Mahindra praises PV Sindhu after she wins Singapore Open',\n",
       "  'content': 'Businessman Anand Mahindra took to Twitter to praise PV Sindhu after she won the Singapore Open. Sharing a tweet by Doordarshan Sports which had an old image of Sindhu, Mahindra wrote, \"That’s not just her facial expression, but the expression of her soul. A fighter to the core...Never getting demoralised by a slump. Teaching us how to rise again.\"',\n",
       "  'category': 'business'},\n",
       " {'title': 'BCCI had ₹40 cr in bank when I joined & ₹47,680 cr when I was banned: Lalit',\n",
       "  'content': 'In an Instagram post, Lalit Modi asserted that he neither took any government favour nor any bribes from anyone. He added, “I was born with a diamond spoon...When I joined BCCI, it had ₹40 crore in the bank. I joined on my birthday on November 29, 2005. Guess what was in the bank when I was banned - ₹47,680 crore.\"',\n",
       "  'category': 'business'},\n",
       " {'title': 'It is not a sacrifice at all: Bill Gates on plan to give away all his wealth',\n",
       "  'content': 'Microsoft Co-founder Bill Gates, who plans to give away all his wealth, said, \"My giving this money is not a sacrifice at all.\" He added, \"I feel privileged to be involved in tackling these great challenges...and I believe I have an obligation to return my resources to society.\" Gates is currently the world\\'s fourth richest person with $113 billion wealth.',\n",
       "  'category': 'business'},\n",
       " {'title': \"11 SEBI officials' email accounts hacked & used to send 34 emails, FIR filed\",\n",
       "  'content': 'Mumbai police has filed an FIR after the Securities and Exchange Board of India (SEBI) approached them, alleging the email accounts of its 11 officials had been hacked and used to send as many as 34 emails by unknown persons. \"It was a small incident. CERT-IN is fully in the loop. No sensitive data was lost,\" the markets regulator said.',\n",
       "  'category': 'business'},\n",
       " {'title': 'RBI is of the view that cryptocurrencies should be prohibited: FM Sitharaman',\n",
       "  'content': 'The Reserve Bank of India (RBI) has recommended to the government that it should frame regulations for cryptocurrencies and is of the view that they should be prohibited, Finance Minister Nirmala Sitharaman said. Citing the borderless nature of cryptocurrencies, she further said that any legislation for regulation or for banning can be effective only after significant international collaboration.',\n",
       "  'category': 'business'},\n",
       " {'title': \"How a startup should operate: Mahindra on old video of Man City's 44-pass goal\",\n",
       "  'content': 'Businessman Anand Mahindra took to Twitter to share a 2018 video of Manchester City\\'s 44-pass goal against Manchester United and wrote, \"A lesson in teamwork...But also an analogy for how a startup...needs to operate.\" He further said that success comes from going \"back and forth, trying new angles of approach and going for the kill when strategic path is clear\".',\n",
       "  'category': 'business'},\n",
       " {'title': \"Ex-NSE CEO Chitra's remand extended by 4 days in money laundering case\",\n",
       "  'content': \"A Delhi court has extended the four-day remand of former CEO and MD of National Stock Exchange (NSE), Chitra Ramkrishna, in a money laundering case. The case involves alleged phone tapping and snooping of NSE's employees. Earlier, the Enforcement Directorate and CBI registered two more cases against Ramkrishna, former NSE head Ravi Narain and former Mumbai Police Commissioner Sanjay Pandey.\",\n",
       "  'category': 'business'},\n",
       " {'title': 'Which household items will get costlier from tomorrow due to changes in GST rules?',\n",
       "  'content': \"Pre-packaged and labelled food items like curd, lassi and buttermilk will get costlier from July 18 as they'll attract 5% GST. Jaggery, khandsari sugar, puffed rice will no longer be exempt from GST. Kitchen utensils like knives, spoons, forks, and stationery items like pencil sharpeners, maps, globes and electrical appliances such as LED lights and fixtures will also get costlier.\",\n",
       "  'category': 'business'},\n",
       " {'title': \"Sunak praises father-in-law Narayana Murthy, says 'His firm employs thousands in UK'\",\n",
       "  'content': 'One of the frontrunners for the UK PM\\'s post, Rishi Sunak, said he is proud of what his parents-in-law built. Speaking about Infosys Founder NR Narayana Murthy, Sunak said, \"My father-in-law came from...nothing and just had a dream and a couple of hundred pounds [from my] mother-in-law\\'s savings…He...built one of the world\\'s largest...companies that...employs thousands of people...in the UK.\"',\n",
       "  'category': 'business'},\n",
       " {'title': 'Saudi Arabia doubled Russian oil imports in Q2, freeing up own oil for exports: Report',\n",
       "  'content': \"The world's largest oil exporter, Saudi Arabia, more than doubled its Russian oil imports in the second quarter, enabling it to free up its own crude for export, as per data accessed by Reuters. It imported 6,47,000 tonnes of Russian oil from April to June. Russia has been selling fuel at discounted prices amid Western sanctions over the Ukraine war.\",\n",
       "  'category': 'business'},\n",
       " {'title': 'New Zealand inflation surges to 7.3%, highest since 1990',\n",
       "  'content': 'Inflation in New Zealand has surged at its fastest pace in over three decades. As per official data, the Consumer Price Index increased 7.3% in the second quarter, up from 6.9% in the first quarter and the fastest since the June quarter of 1990 when prices rose 7.6%. Economists had predicted that inflation would come in at 7% or 7.1%.',\n",
       "  'category': 'business'},\n",
       " {'title': 'No GST on pre-packed, labelled food items weighing over 25 kg: Finance Ministry',\n",
       "  'content': 'The Finance Ministry has clarified that single packages of pre-packed and labelled food items like cereals and pulses weighing over 25 kg are exempt from 5% GST. It added that if a retail shopkeeper supplies an item in a loose quantity that was bought in a 25-kg pack from a manufacturer, its sale to the consumer will not attract GST.',\n",
       "  'category': 'business'},\n",
       " {'title': \"Bill & Melinda Gates Foundation's half resources have come from Warren: Bill Gates\",\n",
       "  'content': 'In a blog, Microsoft Co-founder Bill Gates said that though the foundation is named Bill & Melinda Gates Foundation, \"half of its resources to date have come from Warren Buffett\\'s gifts\". Gates wrote, \"Since 2006, Warren has gifted the foundation $35.7 billion, including his most recent gift of $3.1 billion in June.\"',\n",
       "  'category': 'business'},\n",
       " {'title': 'Pakistani rupee falls to all-time low of 212 against US dollar',\n",
       "  'content': 'The Pakistani rupee has dropped to a record low against the US dollar with the exchange rate sliding to PKR 212, local media reported on Monday. This fall in the value came after traders resorted to panic buying on reports that some commercial banks had run out of foreign currency, reports stated.',\n",
       "  'category': 'business'},\n",
       " {'title': \"Plea to stop SpiceJet's operations amid recent mishaps dismissed by Delhi HC\",\n",
       "  'content': \"The Delhi High Court dismissed a plea seeking to stop the operations of SpiceJet over recent technical snags. The plea cited several incidents involving SpiceJet flights and claimed that passengers' lives are at risk due to their improper management. The DGCA has taken note of incidents involving SpiceJet flights and is free to proceed on its own, the court noted.\",\n",
       "  'category': 'business'},\n",
       " {'title': 'What goods & services get cheaper as new GST rates come into effect today?',\n",
       "  'content': 'Electric vehicles, whether or not fitted with a battery pack, will be eligible for the concessional GST rate of 5% from July 18. GST on renting trucks, and goods carriages (where the cost of fuel is included) will be cut to 12% from 18%. GST on ostomy appliances and orthopaedic equipment like splints will be reduced from 12% to 5%.',\n",
       "  'category': 'business'},\n",
       " {'title': 'HUL, ITC, United Spirits added 130 execs to crorepati club last fiscal: Report',\n",
       "  'content': 'Hindustan Unilever (HUL), ITC and United Spirits together added over 130 executives to the club of those earning more than ₹1 crore annually during the last fiscal, The Economic Times reported. United Spirits witnessed a massive jump of 113%, whereas HUL and ITC saw 33% and 44% increase in the number of eight-figure salary earners, as per their annual reports.',\n",
       "  'category': 'business'},\n",
       " {'title': 'SEBI clears appointment of BSE chief Ashish Chauhan as new NSE CEO & MD',\n",
       "  'content': 'The Securities and Exchange Board of India has approved the appointment of Ashish Kumar Chauhan as the new MD and CEO of the NSE. Chauhan is currently the MD and CEO of the BSE and will replace Vikram Limaye whose term ended as NSE chief on July 16. The appointment is subject to Chauhan accepting the offer. ',\n",
       "  'category': 'business'},\n",
       " {'title': 'Fortune cooking oil prices cut by up to ₹30 per litre by Adani Wilmar',\n",
       "  'content': \"Prices of one of the most popular Indian edible oil brands Fortune have been cut by up to ₹30 per litre amid a fall in global prices. This is the second oil price reduction announced by the brand's maker Adani Wilmar in two months. Prices of soyabean and sunflower oils have been cut to ₹165 and ₹195 per litre, respectively.\",\n",
       "  'category': 'business'},\n",
       " {'title': 'Scindia chairs meet with heads of airline companies on safety issues',\n",
       "  'content': 'Civil Aviation Minister Jyotiraditya Scindia chaired a one-on-one meeting with heads of airline companies on Monday to review flight safety norms. The Aviation Ministry also issued instructions to each airline to take steps at all levels to enhance security surveillance. These steps come after a few Indian airlines reported back-to-back incidents of emergency landings due to technical issues.',\n",
       "  'category': 'business'},\n",
       " {'title': \"Hyd authority's one-time scheme offers 90% waiver on property tax arrears\",\n",
       "  'content': 'The Telangana government has announced a one-time scheme (OTS) for clearing pending property tax arrears within Greater Hyderabad Municipal Corporation (GHMC) limits and all other urban local bodies. The scheme will allow a waiver of 90% on interest payment, provided that the principal amount plus 10% of interest on accumulated arrears is paid in one go for financial year 2021-22.',\n",
       "  'category': 'business'},\n",
       " {'title': '6 of top 10 most valued firms lost ₹1.68 lakh crore in m-cap last week',\n",
       "  'content': 'Among the 10 most valued firms, six companies suffered a combined loss of ₹1.68 lakh crore in their market valuation last week. While TCS took the biggest hit as its market valuation declined by ₹99,270.07 crore to reach ₹10,95,355.32 crore, it was followed by Infosys, whose valuation dropped by ₹35,133.64 crore to ₹6,01,900.14 crore.',\n",
       "  'category': 'business'},\n",
       " {'title': 'Swedish fashion retailer H&M to exit Russia amid Ukraine war',\n",
       "  'content': 'Swedish fashion retailer H&M said that it will exit from Russia after pausing sales there in March after Moscow\\'s invasion of Ukraine. \"After careful consideration, we see it as impossible given the current situation to continue our business in Russia,\" Chief Executive Helena Helmersson said in a statement. H&M said the move will cost $200 million and affect 6,000 staff. ',\n",
       "  'category': 'business'},\n",
       " {'title': \"Yuvraj's '45-minute conversation' tweet for Pant after his first-ever ODI ton goes viral\",\n",
       "  'content': 'Former India all-rounder Yuvraj Singh\\'s tweet praising Rishabh Pant after his maiden ODI hundred has gone viral. \"Looks like the 45-minute conversation made sense! Well played Rishabh Pant...that\\'s how you pace your innings. Hardik Pandya, great to watch,\" Yuvraj wrote. Yuvraj\\'s tweet indicated that he had a 45-minute conversation with the India wicketkeeper-batter over his batting.',\n",
       "  'category': 'sports'},\n",
       " {'title': 'Batra quits as IOA President, FIH Chief, IOC member; pics of resignation letters surface',\n",
       "  'content': 'Narinder Batra has stepped down as the Indian Olympic Association (IOA) President, International Olympic Committee (IOC) member and International Hockey Federation (FIH) Chief due to personal reasons. Pictures of his three resignation letters all dated July 18, 2022 have surfaced online. In June, the Delhi High Court had ordered Batra to stop functioning as IOA President in a contempt proceeding.',\n",
       "  'category': 'sports'},\n",
       " {'title': \"How does the ODI team rankings table read after India's series victory?\",\n",
       "  'content': 'Following their 2-1 ODI series victory against England, India are placed third on the ICC ODI team rankings table. India have accumulated 109 rating points, while fourth-placed Pakistan have 106 rating points. England are currently second with 121 rating points, while New Zealand lead the rankings with 128 rating points.',\n",
       "  'category': 'sports'},\n",
       " {'title': \"Virat Kohli reacts to Ben Stokes' ODI retirement, calls him 'Most competitive bloke'\",\n",
       "  'content': 'Former Team India captain Virat Kohli reacted to England Test captain Ben Stokes announcing his retirement from ODI cricket. \"You\\'re the most competitive bloke I\\'ve ever played against. Respect,\" Kohli commented on Stokes\\' post on Instagram. Stokes said that he will play his last ODI on Tuesday against South Africa.',\n",
       "  'category': 'sports'},\n",
       " {'title': \"Ben Stokes retires from ODI cricket, says '3 formats are just unsustainable for me now'\",\n",
       "  'content': 'England Test captain Ben Stokes has announced his retirement from ODI cricket, saying England\\'s match against South Africa on Tuesday will be his last ODI. \"Three formats are just unsustainable for me now,\" he stated. \"It\\'s time for someone else to progress as a cricketer and make incredible memories like I have over the past 11 years,\" he added.',\n",
       "  'category': 'sports'},\n",
       " {'title': \"Harbhajan takes oath as Rajya Sabha member, says 'will do my best for the nation'\",\n",
       "  'content': 'Former cricketer Harbhajan Singh has taken oath as a member of the Rajya Sabha from Punjab. Sharing a video from the ceremony in Parliament, Singh said, \"Took oath...to protect the Constitution, rule of law and dignity of the House. I will do my best for the people of Punjab and the nation..Jai Hind Jai Bharat.\" He was nominated by AAP.',\n",
       "  'category': 'sports'},\n",
       " {'title': 'West Indies announce their 13-member squad for ODI series against India',\n",
       "  'content': \"West Indies have announced their 13-member squad for the ODI series against India, which will begin on July 22. Senior all-rounder Jason Holder has been recalled to West Indies' squad, which will be led by Nicholas Pooran. Shai Hope will be West Indies' vice captain. Romario Shepherd and Hayden Walsh Jr have been named as reserve players.\",\n",
       "  'category': 'sports'},\n",
       " {'title': 'Who are David Beckham and Ronaldo Singh, who will represent India at CWG 2022?',\n",
       "  'content': \"David Beckham and Ronaldo Singh Laitonjam are among the athletes who'll represent India at upcoming CWG 2022. Both are professional cyclists. Beckham is 19 years old and hails from Andaman, while 19-year-old Ronaldo hails from Manipur. David got the name as his maternal uncle was a big fan of ex-England footballer David Beckham, while Ronaldo's name is inspired from Ronaldinho.\",\n",
       "  'category': 'sports'},\n",
       " {'title': \"I'd have definitely tried to hit another one: Sehwag on Pant's 5 consecutive fours\",\n",
       "  'content': 'Team India wicketkeeper-batter Rishabh Pant smashed five consecutive fours off England pacer David Willey in the 42nd over in their final ODI on Sunday. Reacting to it, ex-India opener Virender Sehwag said, \"I\\'d have definitely tried to hit [another] four or a six.\" India needed four runs to win off Willey\\'s last delivery but Pant took a single. ',\n",
       "  'category': 'sports'},\n",
       " {'title': 'Kohli should leave excess baggage back in England, start afresh: Ojha',\n",
       "  'content': 'Pragyan Ojha said India batter Virat Kohli should leave the \"excess baggage\" back in England and start afresh. \"He\\'s going through a bad phase. What he can do is cut short...negativity,\" he added. Against England in rescheduled fifth Test, Kohli scored 11 and 20. While he managed 12 runs in two T20Is, he hit 16 and 17 in two ODIs.',\n",
       "  'category': 'sports'},\n",
       " {'title': 'PM Modi to interact with Indian contingent bound for CWG on July 20',\n",
       "  'content': 'Prime Minister Narendra Modi will interact with 2022 Commonwealth Games-bound Indian contingent on July 20, Wednesday, via video conferencing, his office said on Monday. The interaction will be attended by both athletes as well as their coaches. CWG will be held in Birmingham from July 28 to August 8. A total of 215 athletes will be participating in the event.\\n',\n",
       "  'category': 'sports'},\n",
       " {'title': \"I'm not the one to try and run before I can walk: Buttler on captaincy \",\n",
       "  'content': 'England white-ball captain Jos Buttler has said he needs \"time and experience\" as skipper after England lost both the T20I and the ODI series to India. \"I\\'m not one to try and run before I can walk,\" stated Buttler. \"I\\'m an experienced cricketer but I\\'m a young captain...I\\'ve got lots to learn, lots to try and work out,\" he explained. ',\n",
       "  'category': 'sports'},\n",
       " {'title': \"Pleasing to see them dominate on English soil: Laxman on India's 2-1 ODIs win\",\n",
       "  'content': 'After India\\'s 2-1 win in the three-match ODI series against England, VVS Laxman said it is very pleasing to see India dominate on English soil. \"A fantastic chase to win the ODI series...partnership between Rishabh Pant and Hardik Pandya was a phenomenal comeback,\" he added. Sachin Tendulkar said, \"Congratulations to Team India...keep up the good work and continue this form.\"',\n",
       "  'category': 'sports'},\n",
       " {'title': \"It's invaluable to have Hardik in Team India in white-ball cricket: Jaffer\",\n",
       "  'content': \"Wasim Jaffer has said it's invaluable to have all-rounder Hardik Pandya in the Indian team in white-ball cricket. Hardik registered bowling figures of 7-3-24-4 and scored 71(55) in India's five-wicket win against England in third ODI. It was the 28-year-old's best-ever bowling figures in ODI cricket. India won the three-match ODI series 2-1. Hardik was adjudged 'Player of the Series'\",\n",
       "  'category': 'sports'},\n",
       " {'title': 'Hardik was fluent in his innings, took pressure off Pant: Zaheer on 3rd ODI',\n",
       "  'content': \"Praising Hardik Pandya for his batting in India's five-wicket win against England in third ODI, Zaheer Khan said the India all-rounder was fluent in his innings and took the pressure off Rishabh Pant by batting at a healthy strike rate. Hardik, who scored a 55-ball 71 at a strike rate of 129.09, stitched a 133-run fifth-wicket partnership with Pant(125*). \",\n",
       "  'category': 'sports'},\n",
       " {'title': \"Pant did what Jos Buttler couldn't do for England: Ojha \",\n",
       "  'content': 'Former India cricketer Pragyan Ojha has said India wicketkeeper-batter Rishabh Pant challenged himself \"mentally\" in his unbeaten 125-run innings in the third ODI against England. \"Pant has maturity and temperament. He has already displayed the qualities in Test cricket. [And now], he [has] shown the same in one-day cricket...He did what Jos Buttler couldn\\'t do for England,\" stated Ojha. ',\n",
       "  'category': 'sports'},\n",
       " {'title': \"Run machine, legend-in-the-making: KKR on Smriti Mandhana's 26th birthday\",\n",
       "  'content': 'Kolkata Knight Riders took to Twitter to wish India Women limited-overs vice-captain Smriti Mandhana on her 26th birthday on Monday. \"A run machine and a legend-in-the-making!\" wrote KKR. Mumbai Indians tweeted, \"Wishing one of the most gifted batters, Smriti, a very happy birthday from one family.\" Smriti has scored 5,250 runs in 165 international matches so far. ',\n",
       "  'category': 'sports'},\n",
       " {'title': 'Focussed on one ball at a time: Pant on match-winning ton vs England',\n",
       "  'content': 'Talking about his match-winning innings against England in third and final ODI, India wicketkeeper-batter Rishabh Pant said he was focussing on one ball at a time. \"When your team is under pressure and you bat like that...something I aspire to do,\" he added. Chasing 260, Pant hit an unbeaten 125 to help India score 261/5 in 42.1 overs.\\n',\n",
       "  'category': 'sports'},\n",
       " {'title': \"Hardik now knows when to bowl bouncer, there's better planning: RP Singh\",\n",
       "  'content': 'Former India pacer RP Singh has said all-rounder Hardik Pandya has improved as a bowler after coming back from his back injury. \"Earlier, Hardik used to run in hard and send down short balls. But now, he thinks hard and knows when to bowl the bouncer,\" explained Singh. Hardik registered his career-best ODI figures of 4/24 against England. ',\n",
       "  'category': 'sports'},\n",
       " {'title': 'It was like rollercoaster of emotions: Sindhu after winning Singapore Open',\n",
       "  'content': 'Taking to Twitter after winning her first Singapore Open title, PV Sindhu wrote, \"It was like a rollercoaster of emotions but managed to pull through and win the championship!\" She added, \"Always special to win in Singapore. Time for a much needed breather before the big one in Birmingham.\" It was world number seven Sindhu\\'s third title of the year.',\n",
       "  'category': 'sports'},\n",
       " {'title': 'Superstar in every format: ECB interim CEO on Stokes after his ODI retirement',\n",
       "  'content': 'After Ben Stokes announced his retirement from ODI cricket, England and Wales Cricket Board (ECB) interim CEO Clare Connor said the England all-rounder is a superstar in every format. \"His remarkable contribution to...World Cup final at Lord\\'s in 2019 enabled England men to win that prestigious trophy for...first time,\" she added. Stokes will play his last ODI on Tuesday.',\n",
       "  'category': 'sports'},\n",
       " {'title': \"That's the example you give: Zaheer on Hardik-Rishabh's 133 run partnership\",\n",
       "  'content': 'Ex-India pacer Zaheer Khan has said the partnership between Rishabh Pant and Hardik Pandya in the third England ODI is the \"example you\\'d like to give to anyone who is in the batting lineup\". India were 72/4 when Hardik came in to bat alongside Pant. The duo added 133 runs for the fifth wicket, helping India win by five wickets. ',\n",
       "  'category': 'sports'},\n",
       " {'title': \"History tells you Shaheen Afridi blew them away: Nasser on India's top-order\",\n",
       "  'content': 'Ex-England captain Nasser Hussain has said Team India\\'s top-order batters struggle against left-arm pacers. \"They need to play left-arm (pacers) a little bit better. History tells you that Shaheen Afridi blew them away one evening...And Reece Topley blew them away here (at Old Trafford),\" he stated. Topley dismissed Shikhar Dhawan, Rohit Sharma and Virat Kohli in the final England ODI.',\n",
       "  'category': 'sports'},\n",
       " {'title': \"Fraser-Pryce sets championship record in Jamaican sweep of women's 100m \",\n",
       "  'content': \"Shelly-Ann Fraser-Pryce won her fifth world title in Jamaican female sprinters' clean sweep of the women's 100m in the ongoing World Athletics Championships. Fraser-Pryce won gold with a new championship record of 10.67 seconds. Shericka Jackson was second, clocking a personal best of 10.73 seconds, while the Tokyo Olympic champion Elaine Thompson-Herah finished third (10.81s). \",\n",
       "  'category': 'sports'},\n",
       " {'title': \"Hardik was unlucky not to be 'Player of the Match' in 3rd ODI: Hogg\",\n",
       "  'content': 'Following India\\'s five-wicket win against England in third ODI, Brad Hogg said all-rounder Hardik Pandya was unlucky not to be adjudged \\'Player of the Match\\' after Rishabh Pant(125*) was named the one. He added that Hardik showed a \"brilliant\" all-round performance with four crucial wickets and a strike rate of 129.09 with the bat. Hardik scored 71 in 55 balls.',\n",
       "  'category': 'sports'},\n",
       " {'title': 'Google to slow hiring for rest of the year: CEO Pichai tells employees',\n",
       "  'content': 'Google CEO Sundar Pichai in an internal memo to the staff has announced that they will be \"slowing down the pace of hiring for the rest of the year\" amid an uncertain global economic outlook. He added, Google will focus on hiring for \"critical roles\" and will be \"pausing development\" in some cases and \"re-deploying resources to higher priority areas\". ',\n",
       "  'category': 'technology'},\n",
       " {'title': \"Will prove our position in court & we believe we'll prevail: Twitter CEO to staff\",\n",
       "  'content': 'Following a lawsuit against Tesla CEO Elon Musk over the $44 billion acquisition agreement, Twitter CEO Parag Agrawal told his staff, \"We will prove our position in court and we believe we will prevail.\" Twitter\\'s lawsuit has accused Musk of \"a long list\" of violations of the merger agreement that \"cast a pall over Twitter and its business\". \\n',\n",
       "  'category': 'technology'},\n",
       " {'title': 'IT Ministry says content removal on Twitter proportional to Indian user base: Report',\n",
       "  'content': 'The Ministry of Electronics and Information Technology in an official review reportedly stated that the Centre\\'s content removal orders to Twitter are \"proportional\" to the expanding Indian user base. The ministry said, \"India is 7% of Twitter\\'s global user base and so is the volume of removal requests.\" Earlier, Twitter challenged the Centre\\'s 39 blocking orders, saying that they\\'re arbitrary. ',\n",
       "  'category': 'technology'},\n",
       " {'title': \"Asked Musk how many kids he plans to have, he said 'Mars needs people': Mark Cuban\",\n",
       "  'content': 'Billionaire Mark Cuban said that he once asked Elon Musk how many children he planned on having. \"This was before the last three or whatever it was,\" Cuban said, likely referring to the three children Musk fathered in 2021. \"I\\'m like, \\'Dude, congratulations, how many you going to have?\\' He sends me a text back, \\'Mars needs people\\',\" Cuban recalled.',\n",
       "  'category': 'technology'},\n",
       " {'title': \"Elon Musk's mother shares pics from his startup Zip2's opening event from 1997\",\n",
       "  'content': \"Tesla CEO Elon Musk's mother Maye Musk took to Twitter to share pictures of the opening of Zip2's global headquarters in Mountain View, California, in 1997. Zip2, a web software startup that created online city guides for newspapers, was the first company founded by Elon Musk. Earlier, a picture of Musk's 1995 business card of Zip2 went viral on Twitter.\",\n",
       "  'category': 'technology'},\n",
       " {'title': 'No plans for company-wide layoffs: Twitter amid lawsuit against Musk',\n",
       "  'content': 'In a filing, Twitter has said that it isn\\'t looking at company-wide layoffs but could continue to restructure the business. The filing comes a day after it sued Tesla CEO Elon Musk for violating his $44 billion deal. In May, Twitter said it would pause hiring and review all existing job offers to determine whether any \"should be pulled back\".',\n",
       "  'category': 'technology'},\n",
       " {'title': 'Kerala becomes the only state with its own internet service: CM Vijayan',\n",
       "  'content': 'Kerala has become the only state in India with its own internet service, CM Pinarayi Vijayan said on Thursday. \"The Kerala Fiber Optic Network Limited has received the ISP license from the Centre\\'s Department of Telecommunications,\" he added. With this, Kerala\\'s KFON project can kickstart its operations of providing internet as a basic right to our people, Vijayan further said.',\n",
       "  'category': 'technology'},\n",
       " {'title': \"Twitter's lawsuit against Musk gets 90-min 1st court hearing on July 19\",\n",
       "  'content': \"Twitter’s lawsuit against Tesla CEO Elon Musk over terminating the $44 billion acquisition deal will be first heard in court on July 19. Kathaleen McCormick, the Chancellor of Delaware's Court of Chancery, has set a 90-minute hearing. Notably, Twitter has requested that the trial begins in September because the merger agreement with Musk terminates on October 25.\",\n",
       "  'category': 'technology'},\n",
       " {'title': 'Smartwatch-like wearable that operates without a battery developed in US',\n",
       "  'content': \"Researchers at the University of California, Irvine, have developed a smartwatch-like wearable that can operate without an external power source or a battery. The 3D printed device is capable of keeping a track of the wearer's pulse and communicating wirelessly with a nearby smartphone. It uses an ultra-thin 2D material called MXene, which has unique electrical and mechanical properties.\",\n",
       "  'category': 'technology'},\n",
       " {'title': 'Amazon pauses work on 6 new US office buildings to redesign for hybrid work',\n",
       "  'content': 'Amazon is pausing construction of six new office buildings in Bellevue and Nashville as it seeks to redesign workspaces for hybrid work. \"We want to make sure that we design them in a way that meets our employees\\' needs in future,\" Amazon said. Amazon\\'s plan to create 30,000 jobs in Bellevue and Nashville won\\'t be affected by the construction pause.',\n",
       "  'category': 'technology'},\n",
       " {'title': 'It is not a sacrifice at all: Bill Gates on plan to give away all his wealth',\n",
       "  'content': 'Microsoft Co-founder Bill Gates, who plans to give away all his wealth, said, \"My giving this money is not a sacrifice at all.\" He added, \"I feel privileged to be involved in tackling these great challenges...and I believe I have an obligation to return my resources to society.\" Gates is currently the world\\'s fourth richest person with $113 billion wealth.',\n",
       "  'category': 'technology'},\n",
       " {'title': \"Musk accused lawyers of causing trouble by seeking deal's financing info: Twitter\",\n",
       "  'content': 'In its lawsuit against Tesla CEO Elon Musk, Twitter has shared a purported image of a text message that Musk sent to CEO Parag Agrawal before terminating the deal. Musk\\'s message read, \"Your lawyers are using these conversations to cause trouble….That needs to stop.\" Musk\\'s message was in response to the company seeking information regarding the deal\\'s financing.\\n',\n",
       "  'category': 'technology'},\n",
       " {'title': 'Russian space agency chief Dmitry, known for clashes with Musk, fired',\n",
       "  'content': 'Dmitry Rogozin, the Russian space agency chief who had frequent clashes online with SpaceX CEO Elon Musk, has been fired. While Kremlin did not provide a reason for removing him, Rogozin’s exit occurred on the same day that NASA and Roscosmos reached terms on a new agreement to collaborate on International Space Station missions despite the ongoing situation in Ukraine. ',\n",
       "  'category': 'technology'},\n",
       " {'title': 'Elon has a real record of success: LinkedIn Co-founder defends Musk against Trump',\n",
       "  'content': 'LinkedIn\\'s billionaire Co-founder Reid Hoffman defended Tesla CEO Elon Musk after former US President Donald Trump called the former a \"bullshit artist\" over the $44 billion Twitter deal. Hoffman tweeted, \"Elon\\'s a classic American immigrant story- an entrepreneur with a real record of success…[Whereas] Trump is a spoiled rich kid who bankrupts everything he touches. Including the US economy.\"',\n",
       "  'category': 'technology'},\n",
       " {'title': \"Video shows iPhone lodged with a bullet after it saves Ukrainian soldier's life\",\n",
       "  'content': \"A video has gone viral on social media purportedly showing an iPhone 11 Pro stuck with a bullet after it saved a Ukrainian soldier's life. The clip shows the damaged iPhone being taken out of the soldier's backpack after the shot was fired. The bullet couldn't penetrate the iPhone through the backpack, creating a clear bulge and shattering its screen.\",\n",
       "  'category': 'technology'},\n",
       " {'title': \"Google removes 8 apps infected with new 'Autolycos' malware from Play Store\",\n",
       "  'content': \"Google has removed eight apps infected with a new Android malware named 'Autolycos' from Play Store. According to Bleeping Computer, the malware executes URLs on a remote browser and then includes the result in HTTP requests. The removed apps include Vlog Star Video Editor, Creative 3D Launcher, Wow Beauty Camera, Funny Camera, Razer Keyboard & Theme, and Gif Emoji Keyboard.\",\n",
       "  'category': 'technology'},\n",
       " {'title': \"11 SEBI officials' email accounts hacked & used to send 34 emails, FIR filed\",\n",
       "  'content': 'Mumbai police has filed an FIR after the Securities and Exchange Board of India (SEBI) approached them, alleging the email accounts of its 11 officials had been hacked and used to send as many as 34 emails by unknown persons. \"It was a small incident. CERT-IN is fully in the loop. No sensitive data was lost,\" the markets regulator said.',\n",
       "  'category': 'technology'},\n",
       " {'title': 'Like all firms, we are not immune to economic headwinds: Google CEO to staff',\n",
       "  'content': 'In an internal memo to the staff, Google CEO Sundar Pichai while announcing the company’s plan to slow its hiring, said, \"Like all companies, we’re not immune to economic headwinds\". He added, “The uncertain global economic outlook has been top of mind...We’ve never viewed these types of challenges as obstacles. Instead, we’ve seen them as opportunities to deepen our focus.\"',\n",
       "  'category': 'technology'},\n",
       " {'title': \"Twitter's sudden speed for trial after 2 months of foot-dragging is a tactic: Musk\",\n",
       "  'content': 'Tesla CEO Elon Musk has opposed Twitter\\'s request for a fast-track trial over the $44 billion deal termination. In a filing, Musk said, \"Twitter\\'s sudden request for warp speed after two months of foot-dragging...is its latest tactic to shroud the truth about spam accounts long enough to railroad defendants into closing.\" Twitter has requested that the trial begin in September. \\n',\n",
       "  'category': 'technology'},\n",
       " {'title': 'RBI is of the view that cryptocurrencies should be prohibited: FM Sitharaman',\n",
       "  'content': 'The Reserve Bank of India (RBI) has recommended to the government that it should frame regulations for cryptocurrencies and is of the view that they should be prohibited, Finance Minister Nirmala Sitharaman said. Citing the borderless nature of cryptocurrencies, she further said that any legislation for regulation or for banning can be effective only after significant international collaboration.',\n",
       "  'category': 'technology'},\n",
       " {'title': 'MHA website ranks 1st among central ministry services portals: Govt',\n",
       "  'content': 'The Ministry of Home Affairs has ranked first and its Digital Police portal second in a service delivery assessment of websites of central government ministries. The National e-Governance Service Delivery Assessment is a periodic assessment intended to improve the effectiveness of the states and Union Territories and the central government in the delivery of their online services to the public.',\n",
       "  'category': 'technology'},\n",
       " {'title': \"Unjustifiable request: Musk files motion against Twitter's bid to fast-track trial\",\n",
       "  'content': 'Tesla CEO Elon Musk has filed a motion opposing Twitter\\'s request to fast-track a trial over the $44 billion deal, terming it an \"unjustifiable request\". While Twitter has requested the trial begin in September because the merger agreement with Musk terminates on October 25, Musk has requested a trial date on or after February 13, 2023. ',\n",
       "  'category': 'technology'},\n",
       " {'title': 'Netflix ties up with Microsoft for cheaper ad-supported subscription',\n",
       "  'content': 'Netflix has announced a partnership with Microsoft for its ad-supported subscription plan. The technology giant will serve as a \"global advertising technology and sales partner\" for the streaming service. Netflix had announced in April that it was looking to offer a cheaper ad-supported option to its customers after nearly 200,000 subscribers left the platform in this year\\'s first quarter.',\n",
       "  'category': 'technology'},\n",
       " {'title': 'If inflation calms down, Tesla can lower car prices: Musk',\n",
       "  'content': 'Tesla CEO Elon Musk on Friday said that the electric car maker could lower prices for cars if inflation comes down. Responding to a user who asked him if Tesla had any plans to lower prices that it had raised amid the pandemic and supply chain woes, Musk replied, \"If inflation calms down, we can lower prices for cars.\"',\n",
       "  'category': 'technology'},\n",
       " {'title': 'RBI likely to introduce new rules for fintech firms: Report',\n",
       "  'content': 'The Reserve Bank of India (RBI) is likely to announce new regulations for fintech companies, Moneycontrol reported. The rules will likely cover areas such as data sharing, privacy, compliance with KYC and anti-money laundering norms, the report said. This comes in the wake of complaints related to some fintechs charging usurious interest rates and other issues, the report added.',\n",
       "  'category': 'technology'},\n",
       " {'title': \"She's the last person to check bank balances, I was penniless: Sushmita's ex Vikram Bhatt\",\n",
       "  'content': 'Talking about Sushmita Sen being called a \\'gold digger\\' for dating Lalit Modi, her ex-boyfriend Vikram Bhatt said, \"Sushmita is a love digger, not a gold digger.\" \"Sushmita is the last person who checks...bank balances before she decides to fall in love with someone. I was penniless. I was directing Ghulam, but I had no money,\" he added.',\n",
       "  'category': 'entertainment'},\n",
       " {'title': 'Excited to announce my next film starring Kartik Aaryan: Kabir Khan',\n",
       "  'content': 'Filmmaker Kabir Khan took to Instagram to announce his upcoming project with actor Kartik Aaryan. \"I\\'m excited to announce my next project starring Kartik in a never before seen avatar,\" he wrote on Instagram. Kabir added the project will be based on a \"fascinating true story\". \"We start shooting early next year,\" he further added.',\n",
       "  'category': 'entertainment'},\n",
       " {'title': \"Love you SRK for rehearsing with me, not throwing attitude: Kashmera on 'Yes..'\",\n",
       "  'content': 'Actress Kashmera Shah took to Instagram to share a video from \\'Yes Boss\\' and thanked actor Shah Rukh Khan for his support. \"Today I completed 25 years in the Bollywood film industry...Thank you King Khan for putting me at comfort...Love you always for rehearsing with me and not throwing attitude of being the huge star that you were,\" she wrote.',\n",
       "  'category': 'entertainment'},\n",
       " {'title': \"Deepika Padukone to play Parvati in 'Brahmastra 2': Report\",\n",
       "  'content': \"Deepika Padukone will portray Parvati in 'Brahmastra 2', according to a report. The actress will reportedly also make a cameo appearance in 'Brahmastra Part One: Shiva', which is set to release in theatres on September 9. The upcoming film, starring Ranbir Kapoor, Amitabh Bachchan, Alia Bhatt and Nagarjuna Akkineni, will be released in multiple languages. \",\n",
       "  'category': 'entertainment'},\n",
       " {'title': \"Working with Salman Khan in 'Kabhi...' is big opportunity: Siddharth\",\n",
       "  'content': 'Speaking about working with Salman Khan in \\'Kabhi Eid Kabhi Diwali\\', Siddharth Nigam has said, \"Sharing screen space with Salman...is a big opportunity...it\\'s a special moment for me.\" \"I\\'m...fortunate that I got this offer...I hope it works out well,\" he added. Siddharth and Jassie Gill joined the project after Aayush Sharma and Zaheer Iqbal reportedly walked out from the movie.',\n",
       "  'category': 'entertainment'},\n",
       " {'title': 'Had no money, cried myself to sleep: Monica Chauudhary on struggling days',\n",
       "  'content': 'Actress Monica Chauudhary, known for shows like \\'Apharan\\' and \\'Salt City\\', spoke about her struggling days in Mumbai and said that she sometimes had no money for food. \"On those nights, I have cried myself to sleep, thinking that I should go back,\" she added. Monica further said she was \"kicked out of\" many shows and films.',\n",
       "  'category': 'entertainment'},\n",
       " {'title': \"Period films harder, the world needs to be believable: Ranbir on 'Shamshera'\",\n",
       "  'content': 'Actor Ranbir Kapoor stated in an interview that period films like \\'Shamshera\\' are harder because the world it is set in needs to be believable. \"Audience...need to know the place and time, they can\\'t be alienated from that. So it\\'s quite tricky,\" he added. The actor further said that if the story is engaging and entertaining, that\\'s what matters.',\n",
       "  'category': 'entertainment'},\n",
       " {'title': \"SRK's look from 'Dunki' leaked, actor spotted shooting in London\",\n",
       "  'content': \"Actor Shah Rukh Khan's look from his upcoming film 'Dunki' has been leaked on social media. The actor was seen wearing a half-tucked plaid shirt along with black trousers and sporting a messy hair look while going for a shot on London's Waterloo Bridge. The film is directed by Rajkumar Hirani and also features Taapsee Pannu.\",\n",
       "  'category': 'entertainment'},\n",
       " {'title': \"We're not getting to spend as much time together as I'd want: Janhvi on family\",\n",
       "  'content': 'Janhvi Kapoor said in an interview that she would love to do a film with her actor-brother Arjun Kapoor. \"We\\'re all working so much, we\\'re not getting to spend as much time together as a family as I\\'d want us to,\" she said, adding, \"So I think the only way...to get...family together is to...do a film and cast everyone in...family.\"',\n",
       "  'category': 'entertainment'},\n",
       " {'title': \"Shooting of Shanaya's 'Bedhadak' to commence next year: Karan Johar\",\n",
       "  'content': \"Filmmaker Karan Johar took to Instagram to announce that the shooting for 'Bedhadak' featuring Shanaya Kapoor, Gurfateh Singh Pirzada and Lakshya is set to commence next year. This comes after reports surfaced stating that the film has been shelved. As per the makers' official statement, the actors are currently reading scripts and undergoing workshops for the upcoming film.\",\n",
       "  'category': 'entertainment'},\n",
       " {'title': \"Want to show people I'm more than simple, innocent: Janhvi on 'Good...'\",\n",
       "  'content': 'Actress Janhvi Kapoor has said \\'Good Luck Jerry\\' is a good opportunity to show people that she is more than simple, innocent and helpless. \"I saw the original film...thought it was cool and funny...Nayanthara was just such a bada** in the film,\" she stated. Janhvi added, \"Nayanthara in that film was...innocent and simple, but her character had a solid arc.\" ',\n",
       "  'category': 'entertainment'},\n",
       " {'title': 'Was literally a father figure to Arjun Kapoor when he was young: Sanjay',\n",
       "  'content': 'Actor Sanjay Kapoor, opening up about his relationship with nephew and actor Arjun Kapoor, has said, \"I have literally brought him up.\" He added, \"Arjun and I have spent the most amount of time together. It may not seem like that right now, but when Arjun was very young, I was literally a father figure to him.\"',\n",
       "  'category': 'entertainment'},\n",
       " {'title': \"Rejected 'Judwaa 2', didn't want to do 'bachpan ka role': Siddharth Nigam\",\n",
       "  'content': 'Actor Siddharth Nigam has revealed that he was offered to play Varun Dhawan\\'s childhood character in the 2017 film \\'Judwaa 2\\'. \"I didn\\'t want to do a \\'bachpan ka role\\'. Otherwise, it becomes difficult to get roles as a male lead,\" he added. Siddharth further said he decided not to do \"popular actors\\' bachpan ka role\" after doing \\'Dhoom 3\\'.',\n",
       "  'category': 'entertainment'},\n",
       " {'title': \"Kajol to make web series debut, says 'Love to take challenges head-on'\",\n",
       "  'content': 'Kajol is set to make her web series debut with an upcoming project. Speaking about it, she said, \"Exploring new formats is always a challenge; but...I love to take challenges head-on.\" \"Being an avid fan of digital series...the concept has always been intriguing,\" she added. Kajol was last seen in the film \\'Tribhanga\\', which premiered on an OTT platform.  ',\n",
       "  'category': 'entertainment'},\n",
       " {'title': \"'PS-1' director Mani Ratnam receives legal notice over Vikram's look: Report\",\n",
       "  'content': \"Filmmaker Mani Ratnam and actor Vikram have reportedly received a legal notice from a lawyer over Vikram's look in the film 'Ponniyin Selvan'. As per the reports, the lawyer alleged Cholas didn't have a 'tilak' on the forehead. In the posters released earlier, Vikram, who plays Aditya Karikalan in the film, can be seen sporting a 'tilak'.\",\n",
       "  'category': 'entertainment'},\n",
       " {'title': 'Some pap pics look vulgar, then people character assassinate you: Janhvi',\n",
       "  'content': 'Actress Janhvi Kapoor has stated that sometimes photos taken by paparazzi can look vulgar because they are \"taken at a certain angle\" or she is \"photographed in a certain way\". \"People perceive you in a certain way and they character assassinate you, even though you make choices based on your comfort. That bothers me,\" the actress said.',\n",
       "  'category': 'entertainment'},\n",
       " {'title': 'Stopped working with Rajesh Khanna, he came at 12pm for 9am shoot: Sharmila',\n",
       "  'content': 'Veteran actress Sharmila Tagore has revealed that the one thing about late actor Rajesh Khanna that affected her was his habit of coming late for work. The actress added that he never reached before 12pm for a 9am shift. \"And that\\'s why I decided to work with other actors despite knowing that our pairing was quite successful,\" Sharmila said.',\n",
       "  'category': 'entertainment'},\n",
       " {'title': 'Samantha to be guest at Indian Film Festival of Melbourne 2022',\n",
       "  'content': 'Actress Samantha Ruth Prabhu will be a key guest at the 2022 Indian Film Festival of Melbourne. The actress will be speaking about her own career and trajectory on August 13 before a live audience. The festival will be holding both physical and virtual events after being online for the past two years due to the COVID-19 pandemic and lockdown.',\n",
       "  'category': 'entertainment'},\n",
       " {'title': \"Didn't realise we were making memories: Juhi on 25 years of 'Yes Boss'\",\n",
       "  'content': 'Actress Juhi Chawla shared a video montage of scenes from her film \\'Yes Boss\\' on social media to celebrate 25 years since its release. She wrote alongside the video, \"I didn\\'t realise we were making memories...No words to thank the \\'Yes Boss\\' team enough...for making such a lovely film watched by millions even today.\" The film co-stars Shah Rukh Khan.',\n",
       "  'category': 'entertainment'},\n",
       " {'title': \"Pic of Shah Rukh Khan shooting for 'Dunki' in London goes viral \",\n",
       "  'content': \"A picture of actor Shah Rukh Khan from the sets of Rajkumar Hirani's 'Dunki' in London has gone viral on social media. He was spotted shooting at London's Waterloo for 'Dunki'. The film also features actress Taapsee Pannu. 'Dunki' is set to be based on an illegal route called the 'Donkey Flight' used by Indians to immigrate to other countries.\",\n",
       "  'category': 'entertainment'},\n",
       " {'title': \"8-yr-old Aditya Patil wins Dance Deewane Juniors, says 'Will buy a big house'\",\n",
       "  'content': 'Aditya Patil has won the first season of the talent reality show \\'Dance Deewane Juniors\\'. The eight-year-old, who is from Gujarat\\'s Surat, was awarded the trophy and ₹20 lakh cash prize. Talking about how he wants to spend the prize money, Aditya told ETimes, \"I will give the winning amount to my grandfather and we will buy a big house.\" \\n',\n",
       "  'category': 'entertainment'},\n",
       " {'title': \"Ranbir always caught my attention with his work: 'Shamshera' director\",\n",
       "  'content': '\\'Shamshera\\' director Karan Malhotra has said that he is happy that he got to work with actor Ranbir Kapoor so early in his career. \"Ranbir always caught my attention with his work...the timing was correct...things just fell into place for us,\" he added. Karan stated that Sanjay Dutt is like a family and added he didn\\'t have any drama.',\n",
       "  'category': 'entertainment'},\n",
       " {'title': \"Singers want to be like Arijit today, they're losing their identities: Mame\",\n",
       "  'content': 'Folk artist Mame Khan has said that he doesn\\'t want to become Arijit Singh. \"Today, all singers want to be like him, and in the process, are losing their identities,\" he added. \"I choose to maintain my voice, which is why it is valued. I also celebrate my folk roots; it\\'s the strongest aspect [of my personality],\" Mame further said. ',\n",
       "  'category': 'entertainment'},\n",
       " {'title': 'Grace & style of Dhanush is something to behold: Regé-Jean Page',\n",
       "  'content': 'Regé-Jean Page, speaking about Dhanush in \\'The Gray Man\\', said, \"The grace...style and badassery of that man, is something to behold...that\\'s going to be a thunderbolt in the film.\" \"If Batman was twice as badass, then he might get halfway to where Dhanush is in this film,\" he added. Ryan Gosling and Chris Evans feature in the film.',\n",
       "  'category': 'entertainment'},\n",
       " {'title': 'Rajesh Khanna was very generous, he bought houses for co-stars: Sharmila',\n",
       "  'content': 'Veteran actress Sharmila Tagore, who appeared with Rajesh Khanna in multiple films, has revealed that the late actor used to buy expensive gifts for his co-actors, colleagues and friends. \"I have seen him be very generous...Sometimes he even bought them a house but in return, it seems Kaka had great expectations of them, which eventually strained his relations,\" Sharmila added.',\n",
       "  'category': 'entertainment'}]"
      ]
     },
     "execution_count": 27,
     "metadata": {},
     "output_type": "execute_result"
    }
   ],
   "source": [
    "get_news_articles(topics,headers)"
   ]
  },
  {
   "cell_type": "code",
   "execution_count": null,
   "id": "d10c0a40",
   "metadata": {},
   "outputs": [],
   "source": []
  },
  {
   "cell_type": "code",
   "execution_count": 28,
   "id": "2419a26c",
   "metadata": {},
   "outputs": [],
   "source": [
    "response = get('https://inshorts.com/en/read')\n",
    "soup3 = BeautifulSoup(response.content,'html.parser')"
   ]
  },
  {
   "cell_type": "code",
   "execution_count": 29,
   "id": "78df81dc",
   "metadata": {},
   "outputs": [
    {
     "data": {
      "text/plain": [
       "[<ul class=\"category-list\">\n",
       " <a href=\"/en/read\" onclick=\"track_GA_Mixpanel({'hitType': 'event', 'category': 'LinkToAllNews', 'action': 'clicked', 'label': 'RedirectedToAllNews' });\"> <li class=\"active-category selected\">All News</li> </a>\n",
       " <a href=\"/en/read/national\" onclick=\"track_GA_Mixpanel({'hitType': 'event', 'category': 'LinkToIndiaNews', 'action': 'clicked', 'label': 'RedirectedToIndiaNews' });\"> <li class=\"active-category\">India</li> </a>\n",
       " <a href=\"/en/read/business\" onclick=\"track_GA_Mixpanel({'hitType': 'event', 'category': 'LinkToBusinessNews', 'action': 'clicked', 'label':  'RedirectedToBusinessNews' });\"> <li class=\"active-category\">Business</li> </a>\n",
       " <a href=\"/en/read/sports\" onclick=\"track_GA_Mixpanel({'hitType': 'event', 'category': 'LinkTosportsNews', 'action': 'clicked', 'label': 'RedirectedToSportsNews' });\"> <li class=\"active-category\">Sports</li> </a>\n",
       " <a href=\"/en/read/world\" onclick=\"track_GA_Mixpanel({'hitType': 'event', 'category': 'LinkToworldNews', 'action': 'clicked', 'label': 'RedirectedToworldNews' });\"> <li class=\"active-category\">World</li> </a>\n",
       " <a href=\"/en/read/politics\" onclick=\"track_GA_Mixpanel({'hitType': 'event', 'category': 'LinkToworldNews', 'action': 'clicked',   'label': 'RedirectedToworldNews' });\"> <li class=\"active-category\">Politics</li> </a>\n",
       " <a href=\"/en/read/technology\" onclick=\"track_GA_Mixpanel({'hitType': 'event', 'category': 'LinkTotechnologyNews', 'action': 'clicked', 'label': 'RedirectedTotechnologyNews' });\"> <li class=\"active-category\">Technology</li> </a>\n",
       " <a href=\"/en/read/startup\" onclick=\"track_GA_Mixpanel({'hitType': 'event', 'category': 'LinkTostartupNews', 'action': 'clicked', 'label': 'RedirectedTostartupNews' });\"> <li class=\"active-category\">Startup</li> </a>\n",
       " <a href=\"/en/read/entertainment\" onclick=\"track_GA_Mixpanel({'hitType': 'event', 'category': 'LinkToEntertainmentNews', 'action': 'clicked', 'label': 'RedirectedToEntertainmentNews' });\"> <li class=\"active-category\">Entertainment</li> </a>\n",
       " <a href=\"/en/read/miscellaneous\" onclick=\"track_GA_Mixpanel({'hitType': 'event', 'category': 'LinkToMiscellaneousNews', 'action': 'clicked', 'label': 'RedirectedToMiscellaneousNews' });\"> <li class=\"active-category\">Miscellaneous</li> </a>\n",
       " <a href=\"/en/read/hatke\" onclick=\"track_GA_Mixpanel({'hitType': 'event', 'category': 'LinkTohatkeNews', 'action': 'clicked', 'label': 'RedirectedTohatkeNews' });\"> <li class=\"active-category\">Hatke</li> </a>\n",
       " <a href=\"/en/read/science\" onclick=\"track_GA_Mixpanel({'hitType': 'event', 'category': 'LinkToscienceNews', 'action': 'clicked', 'label': 'RedirectedToscienceNews' });\"> <li class=\"active-category\">Science</li> </a>\n",
       " <a href=\"/en/read/automobile\" onclick=\"track_GA_Mixpanel({'hitType': 'event', 'category': 'LinkToautomobileNews', 'action': 'clicked', 'label': 'RedirectedToautomobileNews' });\"> <li class=\"active-category\">Automobile</li> </a>\n",
       " </ul>]"
      ]
     },
     "execution_count": 29,
     "metadata": {},
     "output_type": "execute_result"
    }
   ],
   "source": [
    "soup3.find_all('ul')"
   ]
  },
  {
   "cell_type": "code",
   "execution_count": 30,
   "id": "7c32f89e",
   "metadata": {},
   "outputs": [
    {
     "data": {
      "text/plain": [
       "[<a href=\"/en/read\" onclick=\"track_GA_Mixpanel({'hitType': 'event', 'category': 'LinkToAllNews', 'action': 'clicked', 'label': 'RedirectedToAllNews' });\"> <li class=\"active-category selected\">All News</li> </a>,\n",
       " <a href=\"/en/read/national\" onclick=\"track_GA_Mixpanel({'hitType': 'event', 'category': 'LinkToIndiaNews', 'action': 'clicked', 'label': 'RedirectedToIndiaNews' });\"> <li class=\"active-category\">India</li> </a>,\n",
       " <a href=\"/en/read/business\" onclick=\"track_GA_Mixpanel({'hitType': 'event', 'category': 'LinkToBusinessNews', 'action': 'clicked', 'label':  'RedirectedToBusinessNews' });\"> <li class=\"active-category\">Business</li> </a>,\n",
       " <a href=\"/en/read/sports\" onclick=\"track_GA_Mixpanel({'hitType': 'event', 'category': 'LinkTosportsNews', 'action': 'clicked', 'label': 'RedirectedToSportsNews' });\"> <li class=\"active-category\">Sports</li> </a>,\n",
       " <a href=\"/en/read/world\" onclick=\"track_GA_Mixpanel({'hitType': 'event', 'category': 'LinkToworldNews', 'action': 'clicked', 'label': 'RedirectedToworldNews' });\"> <li class=\"active-category\">World</li> </a>]"
      ]
     },
     "execution_count": 30,
     "metadata": {},
     "output_type": "execute_result"
    }
   ],
   "source": [
    "soup3.select('ul a[href]')[0:5]"
   ]
  },
  {
   "cell_type": "code",
   "execution_count": 31,
   "id": "448c791c",
   "metadata": {},
   "outputs": [
    {
     "data": {
      "text/plain": [
       "'/en/read'"
      ]
     },
     "execution_count": 31,
     "metadata": {},
     "output_type": "execute_result"
    }
   ],
   "source": [
    "soup3.select('ul a[href]')[0]['href']"
   ]
  },
  {
   "cell_type": "code",
   "execution_count": 32,
   "id": "3ef7a470",
   "metadata": {},
   "outputs": [
    {
     "data": {
      "text/plain": [
       "['/en/read',\n",
       " '/en/read/national',\n",
       " '/en/read/business',\n",
       " '/en/read/sports',\n",
       " '/en/read/world',\n",
       " '/en/read/politics',\n",
       " '/en/read/technology',\n",
       " '/en/read/startup',\n",
       " '/en/read/entertainment',\n",
       " '/en/read/miscellaneous',\n",
       " '/en/read/hatke',\n",
       " '/en/read/science',\n",
       " '/en/read/automobile']"
      ]
     },
     "execution_count": 32,
     "metadata": {},
     "output_type": "execute_result"
    }
   ],
   "source": [
    "[a['href'] for a in soup3.select('ul a[href]')]"
   ]
  },
  {
   "cell_type": "markdown",
   "id": "575b50db",
   "metadata": {},
   "source": [
    "Now I would just need to reconfigure the url and auto drop the first one"
   ]
  },
  {
   "cell_type": "code",
   "execution_count": 40,
   "id": "dcc57721",
   "metadata": {},
   "outputs": [
    {
     "data": {
      "text/plain": [
       "[<li class=\"active-category selected\">All News</li>]"
      ]
     },
     "execution_count": 40,
     "metadata": {},
     "output_type": "execute_result"
    }
   ],
   "source": [
    "#Can we also grab the associated common names?\n",
    "soup3.select('ul a[href]')[0].select('li')"
   ]
  },
  {
   "cell_type": "code",
   "execution_count": 41,
   "id": "b9fbe3ad",
   "metadata": {},
   "outputs": [
    {
     "data": {
      "text/plain": [
       "['All News',\n",
       " 'India',\n",
       " 'Business',\n",
       " 'Sports',\n",
       " 'World',\n",
       " 'Politics',\n",
       " 'Technology',\n",
       " 'Startup',\n",
       " 'Entertainment',\n",
       " 'Miscellaneous',\n",
       " 'Hatke',\n",
       " 'Science',\n",
       " 'Automobile']"
      ]
     },
     "execution_count": 41,
     "metadata": {},
     "output_type": "execute_result"
    }
   ],
   "source": [
    "[a.select_one('li').text for a in soup3.select('ul a[href]')]"
   ]
  }
 ],
 "metadata": {
  "kernelspec": {
   "display_name": "Python 3 (ipykernel)",
   "language": "python",
   "name": "python3"
  },
  "language_info": {
   "codemirror_mode": {
    "name": "ipython",
    "version": 3
   },
   "file_extension": ".py",
   "mimetype": "text/x-python",
   "name": "python",
   "nbconvert_exporter": "python",
   "pygments_lexer": "ipython3",
   "version": "3.9.7"
  }
 },
 "nbformat": 4,
 "nbformat_minor": 5
}
